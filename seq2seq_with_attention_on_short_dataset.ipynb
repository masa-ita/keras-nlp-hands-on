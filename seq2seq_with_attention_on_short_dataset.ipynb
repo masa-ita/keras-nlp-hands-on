{
 "cells": [
  {
   "cell_type": "code",
   "execution_count": 1,
   "metadata": {
    "colab": {
     "base_uri": "https://localhost:8080/"
    },
    "executionInfo": {
     "elapsed": 2859,
     "status": "ok",
     "timestamp": 1612533603852,
     "user": {
      "displayName": "Masatoshi Itagaki",
      "photoUrl": "https://lh3.googleusercontent.com/a-/AOh14GjjMZX1uH0izIppjc9JsftJYiUHWDycpKYMG80UVQ=s64",
      "userId": "04462290006021813429"
     },
     "user_tz": -540
    },
    "id": "QetvaJ27Tb6y",
    "outputId": "d5d13c9d-672a-497e-ebfc-b44b7e57965b"
   },
   "outputs": [
    {
     "name": "stdout",
     "output_type": "stream",
     "text": [
      "Defaulting to user installation because normal site-packages is not writeable\n",
      "Requirement already satisfied: japanize_matplotlib in /home/tensorflow/.local/lib/python3.6/site-packages (1.1.3)\n",
      "Requirement already satisfied: matplotlib in /usr/local/lib/python3.6/dist-packages (from japanize_matplotlib) (3.3.0)\n",
      "Requirement already satisfied: cycler>=0.10 in /usr/local/lib/python3.6/dist-packages (from matplotlib->japanize_matplotlib) (0.10.0)\n",
      "Requirement already satisfied: python-dateutil>=2.1 in /usr/local/lib/python3.6/dist-packages (from matplotlib->japanize_matplotlib) (2.8.1)\n",
      "Requirement already satisfied: kiwisolver>=1.0.1 in /usr/local/lib/python3.6/dist-packages (from matplotlib->japanize_matplotlib) (1.2.0)\n",
      "Requirement already satisfied: pyparsing!=2.0.4,!=2.1.2,!=2.1.6,>=2.0.3 in /usr/local/lib/python3.6/dist-packages (from matplotlib->japanize_matplotlib) (2.4.7)\n",
      "Requirement already satisfied: pillow>=6.2.0 in /usr/local/lib/python3.6/dist-packages (from matplotlib->japanize_matplotlib) (7.2.0)\n",
      "Requirement already satisfied: numpy>=1.15 in /usr/local/lib/python3.6/dist-packages (from matplotlib->japanize_matplotlib) (1.18.5)\n",
      "Requirement already satisfied: six in /usr/local/lib/python3.6/dist-packages (from cycler>=0.10->matplotlib->japanize_matplotlib) (1.15.0)\n",
      "\u001b[33mWARNING: You are using pip version 20.1.1; however, version 21.0.1 is available.\n",
      "You should consider upgrading via the '/usr/bin/python3 -m pip install --upgrade pip' command.\u001b[0m\n"
     ]
    }
   ],
   "source": [
    "!pip install japanize_matplotlib"
   ]
  },
  {
   "cell_type": "code",
   "execution_count": 2,
   "metadata": {
    "colab": {
     "base_uri": "https://localhost:8080/"
    },
    "id": "_M-eDSyL-8E7",
    "outputId": "7f42f59e-e667-4f23-fa16-57d82dd3e4aa"
   },
   "outputs": [],
   "source": [
    "from tensorflow.keras.utils import get_file\n",
    "\n",
    "url = 'https://github.com/odashi/small_parallel_enja/archive/master.zip'\n",
    "\n",
    "zip_file_path = get_file('small_parallel_enja.zip', url, cache_subdir='small_parallel_enja', extract=True) "
   ]
  },
  {
   "cell_type": "code",
   "execution_count": 3,
   "metadata": {
    "colab": {
     "base_uri": "https://localhost:8080/"
    },
    "id": "SsrpAmZ1BVFF",
    "outputId": "4f86b029-427d-4f1a-e5bc-89a286ec9b3e"
   },
   "outputs": [
    {
     "name": "stdout",
     "output_type": "stream",
     "text": [
      "total 9076\n",
      "-rw-r--r-- 1 tensorflow tensorflow    1946 Feb 10 06:20 README.md\n",
      "-rw-r--r-- 1 tensorflow tensorflow   17054 Feb 10 06:20 dev.en\n",
      "-rw-r--r-- 1 tensorflow tensorflow   27781 Feb 10 06:20 dev.ja\n",
      "-rw-r--r-- 1 tensorflow tensorflow   17301 Feb 10 06:20 test.en\n",
      "-rw-r--r-- 1 tensorflow tensorflow   27793 Feb 10 06:20 test.ja\n",
      "-rw-r--r-- 1 tensorflow tensorflow 1701356 Feb 10 06:20 train.en\n",
      "-rw-r--r-- 1 tensorflow tensorflow  339768 Feb 10 06:20 train.en.000\n",
      "-rw-r--r-- 1 tensorflow tensorflow  340186 Feb 10 06:20 train.en.001\n",
      "-rw-r--r-- 1 tensorflow tensorflow  341174 Feb 10 06:20 train.en.002\n",
      "-rw-r--r-- 1 tensorflow tensorflow  339953 Feb 10 06:20 train.en.003\n",
      "-rw-r--r-- 1 tensorflow tensorflow  340275 Feb 10 06:20 train.en.004\n",
      "-rw-r--r-- 1 tensorflow tensorflow   30025 Feb 10 06:20 train.en.vocab.4k\n",
      "-rw-r--r-- 1 tensorflow tensorflow   51162 Feb 10 06:20 train.en.vocab.all\n",
      "-rw-r--r-- 1 tensorflow tensorflow 2784447 Feb 10 06:20 train.ja\n",
      "-rw-r--r-- 1 tensorflow tensorflow  556444 Feb 10 06:20 train.ja.000\n",
      "-rw-r--r-- 1 tensorflow tensorflow  555732 Feb 10 06:20 train.ja.001\n",
      "-rw-r--r-- 1 tensorflow tensorflow  557218 Feb 10 06:20 train.ja.002\n",
      "-rw-r--r-- 1 tensorflow tensorflow  557538 Feb 10 06:20 train.ja.003\n",
      "-rw-r--r-- 1 tensorflow tensorflow  557515 Feb 10 06:20 train.ja.004\n",
      "-rw-r--r-- 1 tensorflow tensorflow   31009 Feb 10 06:20 train.ja.vocab.4k\n",
      "-rw-r--r-- 1 tensorflow tensorflow   73669 Feb 10 06:20 train.ja.vocab.all\n"
     ]
    }
   ],
   "source": [
    "import os\n",
    "\n",
    "data_dir = os.path.join(os.path.dirname(zip_file_path), 'small_parallel_enja-master')\n",
    "!ls -l $data_dir"
   ]
  },
  {
   "cell_type": "code",
   "execution_count": 4,
   "metadata": {
    "id": "y3iF78mDMb1B"
   },
   "outputs": [],
   "source": [
    "import os\n",
    "import tensorflow as tf\n",
    "from tensorflow.keras.preprocessing.text import Tokenizer\n",
    "from sklearn.model_selection import train_test_split\n",
    "from tensorflow.keras.preprocessing.sequence import pad_sequences\n",
    "\n",
    "def load_data(path):\n",
    "    tokenizer = Tokenizer(filters='')\n",
    "    \n",
    "    texts = []\n",
    "    for line in open(path, 'r'):\n",
    "        texts.append('<start> ' + line.strip() + ' <end>')\n",
    "    \n",
    "    tokenizer.fit_on_texts(texts)\n",
    "    return tokenizer.texts_to_sequences(texts), tokenizer\n",
    "\n",
    "en, inp_lang = load_data(os.path.join(data_dir, 'train.en'))\n",
    "ja, targ_lang = load_data(os.path.join(data_dir, 'train.ja'))\n",
    "\n",
    "vocab_inp_size = len(inp_lang.word_index) + 1\n",
    "vocab_tar_size = len(targ_lang.word_index) + 1\n",
    "\n",
    "train_en, test_en, train_ja, test_ja = train_test_split(en, ja, test_size=0.1, random_state=36)\n",
    "\n",
    "input_tensor_train = pad_sequences(train_en, padding='post')\n",
    "target_tensor_train = pad_sequences(train_ja, padding='post')\n",
    "input_tensor_val = pad_sequences(test_en, padding='post')\n",
    "target_tensor_val = pad_sequences(test_ja, padding='post')\n",
    "\n",
    "max_length_inp = len(input_tensor_train[0])\n",
    "max_length_targ = len(target_tensor_train[0])"
   ]
  },
  {
   "cell_type": "code",
   "execution_count": 5,
   "metadata": {
    "executionInfo": {
     "elapsed": 20969,
     "status": "ok",
     "timestamp": 1612533622233,
     "user": {
      "displayName": "Masatoshi Itagaki",
      "photoUrl": "https://lh3.googleusercontent.com/a-/AOh14GjjMZX1uH0izIppjc9JsftJYiUHWDycpKYMG80UVQ=s64",
      "userId": "04462290006021813429"
     },
     "user_tz": -540
    },
    "id": "cfxSreRrXvw4"
   },
   "outputs": [],
   "source": [
    "def convert(lang, tensor):\n",
    "    for t in tensor:\n",
    "        if t!=0:\n",
    "            print (\"%d ----> %s\" % (t, lang.index_word[t]))"
   ]
  },
  {
   "cell_type": "code",
   "execution_count": 6,
   "metadata": {
    "colab": {
     "base_uri": "https://localhost:8080/"
    },
    "executionInfo": {
     "elapsed": 20946,
     "status": "ok",
     "timestamp": 1612533622233,
     "user": {
      "displayName": "Masatoshi Itagaki",
      "photoUrl": "https://lh3.googleusercontent.com/a-/AOh14GjjMZX1uH0izIppjc9JsftJYiUHWDycpKYMG80UVQ=s64",
      "userId": "04462290006021813429"
     },
     "user_tz": -540
    },
    "id": "qBMUz4Q9Xxe7",
    "outputId": "dae0dde9-4b87-4f04-f9c0-83406ba9bfbb"
   },
   "outputs": [
    {
     "name": "stdout",
     "output_type": "stream",
     "text": [
      "Input Language; index to word mapping\n",
      "1 ----> <start>\n",
      "5 ----> i\n",
      "512 ----> walked\n",
      "12 ----> in\n",
      "4 ----> the\n",
      "2801 ----> woods\n",
      "51 ----> by\n",
      "410 ----> myself\n",
      "3 ----> .\n",
      "2 ----> <end>\n",
      "\n",
      "Target Language; index to word mapping\n",
      "1 ----> <start>\n",
      "17 ----> 私\n",
      "4 ----> は\n",
      "265 ----> 一人\n",
      "11 ----> で\n",
      "1571 ----> 森\n",
      "8 ----> を\n",
      "198 ----> 歩\n",
      "5 ----> い\n",
      "7 ----> た\n",
      "3 ----> 。\n",
      "2 ----> <end>\n"
     ]
    }
   ],
   "source": [
    "print (\"Input Language; index to word mapping\")\n",
    "convert(inp_lang, input_tensor_train[0])\n",
    "print ()\n",
    "print (\"Target Language; index to word mapping\")\n",
    "convert(targ_lang, target_tensor_train[0])"
   ]
  },
  {
   "cell_type": "code",
   "execution_count": 7,
   "metadata": {
    "executionInfo": {
     "elapsed": 21908,
     "status": "ok",
     "timestamp": 1612533623222,
     "user": {
      "displayName": "Masatoshi Itagaki",
      "photoUrl": "https://lh3.googleusercontent.com/a-/AOh14GjjMZX1uH0izIppjc9JsftJYiUHWDycpKYMG80UVQ=s64",
      "userId": "04462290006021813429"
     },
     "user_tz": -540
    },
    "id": "ZDYSOGLzYbP8"
   },
   "outputs": [],
   "source": [
    "BUFFER_SIZE = len(input_tensor_train)\n",
    "BATCH_SIZE = 64\n",
    "steps_per_epoch = len(input_tensor_train) // BATCH_SIZE\n",
    "embedding_dim = 256\n",
    "units = 1024\n",
    "vocab_inp_size = len(inp_lang.word_index)+1\n",
    "vocab_tar_size = len(targ_lang.word_index)+1\n",
    "\n",
    "dataset = tf.data.Dataset.from_tensor_slices((input_tensor_train, target_tensor_train)).shuffle(BUFFER_SIZE)\n",
    "dataset = dataset.batch(BATCH_SIZE, drop_remainder=True)"
   ]
  },
  {
   "cell_type": "code",
   "execution_count": 8,
   "metadata": {
    "colab": {
     "base_uri": "https://localhost:8080/"
    },
    "executionInfo": {
     "elapsed": 21906,
     "status": "ok",
     "timestamp": 1612533623225,
     "user": {
      "displayName": "Masatoshi Itagaki",
      "photoUrl": "https://lh3.googleusercontent.com/a-/AOh14GjjMZX1uH0izIppjc9JsftJYiUHWDycpKYMG80UVQ=s64",
      "userId": "04462290006021813429"
     },
     "user_tz": -540
    },
    "id": "OkZvi19gYp03",
    "outputId": "accb9126-2ff7-4c96-9d02-8cd62073cddd"
   },
   "outputs": [
    {
     "data": {
      "text/plain": [
       "(TensorShape([64, 18]), TensorShape([64, 18]))"
      ]
     },
     "execution_count": 8,
     "metadata": {},
     "output_type": "execute_result"
    }
   ],
   "source": [
    "example_input_batch, example_target_batch = next(iter(dataset))\n",
    "example_input_batch.shape, example_target_batch.shape"
   ]
  },
  {
   "cell_type": "code",
   "execution_count": 9,
   "metadata": {
    "executionInfo": {
     "elapsed": 21881,
     "status": "ok",
     "timestamp": 1612533623226,
     "user": {
      "displayName": "Masatoshi Itagaki",
      "photoUrl": "https://lh3.googleusercontent.com/a-/AOh14GjjMZX1uH0izIppjc9JsftJYiUHWDycpKYMG80UVQ=s64",
      "userId": "04462290006021813429"
     },
     "user_tz": -540
    },
    "id": "YYHYgc4hYwly"
   },
   "outputs": [],
   "source": [
    "class Encoder(tf.keras.Model):\n",
    "    def __init__(self, vocab_size, embedding_dim, enc_units, batch_sz):\n",
    "        super(Encoder, self).__init__()\n",
    "        self.batch_sz = batch_sz\n",
    "        self.enc_units = enc_units\n",
    "        self.embedding = tf.keras.layers.Embedding(vocab_size, embedding_dim)\n",
    "        self.gru = tf.keras.layers.GRU(self.enc_units,\n",
    "                                       return_sequences=True,\n",
    "                                       return_state=True,\n",
    "                                       recurrent_initializer='glorot_uniform')\n",
    "\n",
    "    def call(self, x, hidden):\n",
    "        x = self.embedding(x)\n",
    "        output, state = self.gru(x, initial_state = hidden)\n",
    "        return output, state\n",
    "\n",
    "    def initialize_hidden_state(self):\n",
    "        return tf.zeros((self.batch_sz, self.enc_units))"
   ]
  },
  {
   "cell_type": "code",
   "execution_count": 10,
   "metadata": {
    "colab": {
     "base_uri": "https://localhost:8080/"
    },
    "executionInfo": {
     "elapsed": 23528,
     "status": "ok",
     "timestamp": 1612533624879,
     "user": {
      "displayName": "Masatoshi Itagaki",
      "photoUrl": "https://lh3.googleusercontent.com/a-/AOh14GjjMZX1uH0izIppjc9JsftJYiUHWDycpKYMG80UVQ=s64",
      "userId": "04462290006021813429"
     },
     "user_tz": -540
    },
    "id": "v5fs_ECmZP8N",
    "outputId": "b516d329-0f71-4394-b486-d79e4a389450"
   },
   "outputs": [
    {
     "name": "stdout",
     "output_type": "stream",
     "text": [
      "Encoder output shape: (batch size, sequence length, units) (64, 18, 1024)\n",
      "Encoder Hidden state shape: (batch size, units) (64, 1024)\n"
     ]
    }
   ],
   "source": [
    "encoder = Encoder(vocab_inp_size, embedding_dim, units, BATCH_SIZE)\n",
    "\n",
    "# サンプル入力\n",
    "sample_hidden = encoder.initialize_hidden_state()\n",
    "sample_output, sample_hidden = encoder(example_input_batch, sample_hidden)\n",
    "print ('Encoder output shape: (batch size, sequence length, units) {}'.format(sample_output.shape))\n",
    "print ('Encoder Hidden state shape: (batch size, units) {}'.format(sample_hidden.shape))"
   ]
  },
  {
   "cell_type": "code",
   "execution_count": 11,
   "metadata": {
    "executionInfo": {
     "elapsed": 23503,
     "status": "ok",
     "timestamp": 1612533624880,
     "user": {
      "displayName": "Masatoshi Itagaki",
      "photoUrl": "https://lh3.googleusercontent.com/a-/AOh14GjjMZX1uH0izIppjc9JsftJYiUHWDycpKYMG80UVQ=s64",
      "userId": "04462290006021813429"
     },
     "user_tz": -540
    },
    "id": "fRy4fGRXZU9P"
   },
   "outputs": [],
   "source": [
    "class BahdanauAttention(tf.keras.layers.Layer):\n",
    "    def __init__(self, units):\n",
    "        super(BahdanauAttention, self).__init__()\n",
    "        self.W1 = tf.keras.layers.Dense(units)\n",
    "        self.W2 = tf.keras.layers.Dense(units)\n",
    "        self.V = tf.keras.layers.Dense(1)\n",
    "\n",
    "    def call(self, query, values):\n",
    "        # hidden shape == (batch_size, hidden size)\n",
    "        # hidden_with_time_axis shape == (batch_size, 1, hidden size)\n",
    "        # スコアを計算するためにこのように加算を実行する\n",
    "        hidden_with_time_axis = tf.expand_dims(query, 1)\n",
    "\n",
    "        # score shape == (batch_size, max_length, 1)\n",
    "        # スコアを self.V に適用するために最後の軸は 1 となる\n",
    "        # self.V に適用する前のテンソルの shape は  (batch_size, max_length, units)\n",
    "        score = self.V(tf.nn.tanh(\n",
    "                      self.W1(values) + self.W2(hidden_with_time_axis)))\n",
    "\n",
    "        # attention_weights の shape == (batch_size, max_length, 1)\n",
    "        attention_weights = tf.nn.softmax(score, axis=1)\n",
    "\n",
    "        # context_vector の合計後の shape == (batch_size, hidden_size)\n",
    "        context_vector = attention_weights * values\n",
    "        context_vector = tf.reduce_sum(context_vector, axis=1)\n",
    "\n",
    "        return context_vector, attention_weights"
   ]
  },
  {
   "cell_type": "code",
   "execution_count": 12,
   "metadata": {
    "colab": {
     "base_uri": "https://localhost:8080/"
    },
    "executionInfo": {
     "elapsed": 23787,
     "status": "ok",
     "timestamp": 1612533625170,
     "user": {
      "displayName": "Masatoshi Itagaki",
      "photoUrl": "https://lh3.googleusercontent.com/a-/AOh14GjjMZX1uH0izIppjc9JsftJYiUHWDycpKYMG80UVQ=s64",
      "userId": "04462290006021813429"
     },
     "user_tz": -540
    },
    "id": "QaX0KziyZoN5",
    "outputId": "bbb96965-3606-43a7-ee8a-11950147e010"
   },
   "outputs": [
    {
     "name": "stdout",
     "output_type": "stream",
     "text": [
      "Attention result shape: (batch size, units) (64, 1024)\n",
      "Attention weights shape: (batch_size, sequence_length, 1) (64, 18, 1)\n"
     ]
    }
   ],
   "source": [
    "attention_layer = BahdanauAttention(10)\n",
    "attention_result, attention_weights = attention_layer(sample_hidden, sample_output)\n",
    "\n",
    "print(\"Attention result shape: (batch size, units) {}\".format(attention_result.shape))\n",
    "print(\"Attention weights shape: (batch_size, sequence_length, 1) {}\".format(attention_weights.shape))"
   ]
  },
  {
   "cell_type": "code",
   "execution_count": 13,
   "metadata": {
    "executionInfo": {
     "elapsed": 23763,
     "status": "ok",
     "timestamp": 1612533625171,
     "user": {
      "displayName": "Masatoshi Itagaki",
      "photoUrl": "https://lh3.googleusercontent.com/a-/AOh14GjjMZX1uH0izIppjc9JsftJYiUHWDycpKYMG80UVQ=s64",
      "userId": "04462290006021813429"
     },
     "user_tz": -540
    },
    "id": "yzuNjW0lZs1y"
   },
   "outputs": [],
   "source": [
    "class Decoder(tf.keras.Model):\n",
    "    def __init__(self, vocab_size, embedding_dim, dec_units, batch_sz):\n",
    "        super(Decoder, self).__init__()\n",
    "        self.batch_sz = batch_sz\n",
    "        self.dec_units = dec_units\n",
    "        self.embedding = tf.keras.layers.Embedding(vocab_size, embedding_dim)\n",
    "        self.gru = tf.keras.layers.GRU(self.dec_units,\n",
    "                                       return_sequences=True,\n",
    "                                       return_state=True,\n",
    "                                       recurrent_initializer='glorot_uniform')\n",
    "        self.fc = tf.keras.layers.Dense(vocab_size)\n",
    "\n",
    "        # アテンションのため\n",
    "        self.attention = BahdanauAttention(self.dec_units)\n",
    "\n",
    "    def call(self, x, hidden, enc_output):\n",
    "        # enc_output の shape == (batch_size, max_length, hidden_size)\n",
    "        context_vector, attention_weights = self.attention(hidden, enc_output)\n",
    "\n",
    "        # 埋め込み層を通過したあとの x の shape  == (batch_size, 1, embedding_dim)\n",
    "        x = self.embedding(x)\n",
    "\n",
    "        # 結合後の x の shape == (batch_size, 1, embedding_dim + hidden_size)\n",
    "        x = tf.concat([tf.expand_dims(context_vector, 1), x], axis=-1)\n",
    "\n",
    "        # 結合したベクトルを GRU 層に渡す\n",
    "        output, state = self.gru(x)\n",
    "\n",
    "        # output shape == (batch_size * 1, hidden_size)\n",
    "        output = tf.reshape(output, (-1, output.shape[2]))\n",
    "\n",
    "        # output shape == (batch_size, vocab)\n",
    "        x = self.fc(output)\n",
    "\n",
    "        return x, state, attention_weights"
   ]
  },
  {
   "cell_type": "code",
   "execution_count": 14,
   "metadata": {
    "colab": {
     "base_uri": "https://localhost:8080/"
    },
    "executionInfo": {
     "elapsed": 23758,
     "status": "ok",
     "timestamp": 1612533625171,
     "user": {
      "displayName": "Masatoshi Itagaki",
      "photoUrl": "https://lh3.googleusercontent.com/a-/AOh14GjjMZX1uH0izIppjc9JsftJYiUHWDycpKYMG80UVQ=s64",
      "userId": "04462290006021813429"
     },
     "user_tz": -540
    },
    "id": "yP8fSgqDZ9Ci",
    "outputId": "28bed07a-7565-40d5-a52f-f6dc025ebf43"
   },
   "outputs": [
    {
     "name": "stdout",
     "output_type": "stream",
     "text": [
      "Decoder output shape: (batch_size, vocab size) (64, 8777)\n"
     ]
    }
   ],
   "source": [
    "decoder = Decoder(vocab_tar_size, embedding_dim, units, BATCH_SIZE)\n",
    "\n",
    "sample_decoder_output, _, _ = decoder(tf.random.uniform((BATCH_SIZE, 1)),\n",
    "                                      sample_hidden, sample_output)\n",
    "\n",
    "print ('Decoder output shape: (batch_size, vocab size) {}'.format(sample_decoder_output.shape))"
   ]
  },
  {
   "cell_type": "code",
   "execution_count": 15,
   "metadata": {
    "executionInfo": {
     "elapsed": 23733,
     "status": "ok",
     "timestamp": 1612533625172,
     "user": {
      "displayName": "Masatoshi Itagaki",
      "photoUrl": "https://lh3.googleusercontent.com/a-/AOh14GjjMZX1uH0izIppjc9JsftJYiUHWDycpKYMG80UVQ=s64",
      "userId": "04462290006021813429"
     },
     "user_tz": -540
    },
    "id": "xOmW4oGQaBuJ"
   },
   "outputs": [],
   "source": [
    "optimizer = tf.keras.optimizers.Adam()\n",
    "loss_object = tf.keras.losses.SparseCategoricalCrossentropy(\n",
    "                             from_logits=True, reduction='none')\n",
    "def loss_function(real, pred):\n",
    "    mask = tf.math.logical_not(tf.math.equal(real, 0))\n",
    "    loss_ = loss_object(real, pred)\n",
    "\n",
    "    mask = tf.cast(mask, dtype=loss_.dtype)\n",
    "    loss_ *= mask\n",
    "\n",
    "    return tf.reduce_mean(loss_)"
   ]
  },
  {
   "cell_type": "code",
   "execution_count": 16,
   "metadata": {
    "executionInfo": {
     "elapsed": 23729,
     "status": "ok",
     "timestamp": 1612533625173,
     "user": {
      "displayName": "Masatoshi Itagaki",
      "photoUrl": "https://lh3.googleusercontent.com/a-/AOh14GjjMZX1uH0izIppjc9JsftJYiUHWDycpKYMG80UVQ=s64",
      "userId": "04462290006021813429"
     },
     "user_tz": -540
    },
    "id": "j1xOnT6oaOCY"
   },
   "outputs": [],
   "source": [
    "import os\n",
    "\n",
    "checkpoint_dir = './training_checkpoints'\n",
    "checkpoint_prefix = os.path.join(checkpoint_dir, \"ckpt\")\n",
    "checkpoint = tf.train.Checkpoint(optimizer=optimizer,\n",
    "                                 encoder=encoder,\n",
    "                                 decoder=decoder)"
   ]
  },
  {
   "cell_type": "code",
   "execution_count": 17,
   "metadata": {
    "executionInfo": {
     "elapsed": 23725,
     "status": "ok",
     "timestamp": 1612533625174,
     "user": {
      "displayName": "Masatoshi Itagaki",
      "photoUrl": "https://lh3.googleusercontent.com/a-/AOh14GjjMZX1uH0izIppjc9JsftJYiUHWDycpKYMG80UVQ=s64",
      "userId": "04462290006021813429"
     },
     "user_tz": -540
    },
    "id": "DaknH7tgaTEt"
   },
   "outputs": [],
   "source": [
    "@tf.function\n",
    "def train_step(inp, targ, enc_hidden):\n",
    "    loss = 0\n",
    "\n",
    "    with tf.GradientTape() as tape:\n",
    "        enc_output, enc_hidden = encoder(inp, enc_hidden)\n",
    "\n",
    "        dec_hidden = enc_hidden\n",
    "\n",
    "        dec_input = tf.expand_dims([targ_lang.word_index['<start>']] * BATCH_SIZE, 1)\n",
    "\n",
    "        # Teacher Forcing - 正解値を次の入力として供給\n",
    "        for t in range(1, targ.shape[1]):\n",
    "            # passing enc_output to the decoder\n",
    "            predictions, dec_hidden, _ = decoder(dec_input, dec_hidden, enc_output)\n",
    "\n",
    "            loss += loss_function(targ[:, t], predictions)\n",
    "\n",
    "            # Teacher Forcing を使用\n",
    "            dec_input = tf.expand_dims(targ[:, t], 1)\n",
    "\n",
    "    batch_loss = (loss / int(targ.shape[1]))\n",
    "\n",
    "    variables = encoder.trainable_variables + decoder.trainable_variables\n",
    "\n",
    "    gradients = tape.gradient(loss, variables)\n",
    "\n",
    "    optimizer.apply_gradients(zip(gradients, variables))\n",
    "\n",
    "    return batch_loss"
   ]
  },
  {
   "cell_type": "code",
   "execution_count": 18,
   "metadata": {
    "colab": {
     "base_uri": "https://localhost:8080/"
    },
    "executionInfo": {
     "elapsed": 1986767,
     "status": "ok",
     "timestamp": 1612535588222,
     "user": {
      "displayName": "Masatoshi Itagaki",
      "photoUrl": "https://lh3.googleusercontent.com/a-/AOh14GjjMZX1uH0izIppjc9JsftJYiUHWDycpKYMG80UVQ=s64",
      "userId": "04462290006021813429"
     },
     "user_tz": -540
    },
    "id": "5bNwa8eCa0Ru",
    "outputId": "d3629362-c291-47dc-8ec8-c49648190c5e"
   },
   "outputs": [
    {
     "name": "stdout",
     "output_type": "stream",
     "text": [
      "Epoch 1 Batch 0 Loss 6.2661\n",
      "Epoch 1 Batch 100 Loss 2.8958\n",
      "Epoch 1 Batch 200 Loss 2.5642\n",
      "Epoch 1 Batch 300 Loss 2.3151\n",
      "Epoch 1 Batch 400 Loss 2.1025\n",
      "Epoch 1 Batch 500 Loss 2.1533\n",
      "Epoch 1 Batch 600 Loss 2.0071\n",
      "Epoch 1 Batch 700 Loss 2.0877\n",
      "Epoch 1 Loss 2.4364\n",
      "Time taken for 1 epoch 119.46129512786865 sec\n",
      "\n",
      "Epoch 2 Batch 0 Loss 1.9589\n",
      "Epoch 2 Batch 100 Loss 1.9013\n",
      "Epoch 2 Batch 200 Loss 1.8852\n",
      "Epoch 2 Batch 300 Loss 1.7491\n",
      "Epoch 2 Batch 400 Loss 1.6551\n",
      "Epoch 2 Batch 500 Loss 1.7680\n",
      "Epoch 2 Batch 600 Loss 1.5845\n",
      "Epoch 2 Batch 700 Loss 1.5786\n",
      "Epoch 2 Loss 1.7657\n",
      "Time taken for 1 epoch 101.2643392086029 sec\n",
      "\n",
      "Epoch 3 Batch 0 Loss 1.5686\n",
      "Epoch 3 Batch 100 Loss 1.4646\n",
      "Epoch 3 Batch 200 Loss 1.4449\n",
      "Epoch 3 Batch 300 Loss 1.3569\n",
      "Epoch 3 Batch 400 Loss 1.4870\n",
      "Epoch 3 Batch 500 Loss 1.3600\n",
      "Epoch 3 Batch 600 Loss 1.3369\n",
      "Epoch 3 Batch 700 Loss 1.3782\n",
      "Epoch 3 Loss 1.3719\n",
      "Time taken for 1 epoch 101.10649156570435 sec\n",
      "\n",
      "Epoch 4 Batch 0 Loss 1.1379\n",
      "Epoch 4 Batch 100 Loss 1.1235\n",
      "Epoch 4 Batch 200 Loss 1.0404\n",
      "Epoch 4 Batch 300 Loss 1.1677\n",
      "Epoch 4 Batch 400 Loss 1.0946\n",
      "Epoch 4 Batch 500 Loss 1.0238\n",
      "Epoch 4 Batch 600 Loss 0.9684\n",
      "Epoch 4 Batch 700 Loss 1.0157\n",
      "Epoch 4 Loss 1.0692\n",
      "Time taken for 1 epoch 101.42417168617249 sec\n",
      "\n",
      "Epoch 5 Batch 0 Loss 0.9150\n",
      "Epoch 5 Batch 100 Loss 0.9581\n",
      "Epoch 5 Batch 200 Loss 1.0341\n",
      "Epoch 5 Batch 300 Loss 0.9779\n",
      "Epoch 5 Batch 400 Loss 0.8273\n",
      "Epoch 5 Batch 500 Loss 1.0310\n",
      "Epoch 5 Batch 600 Loss 0.8896\n",
      "Epoch 5 Batch 700 Loss 0.8357\n",
      "Epoch 5 Loss 0.8574\n",
      "Time taken for 1 epoch 101.28867244720459 sec\n",
      "\n",
      "Epoch 6 Batch 0 Loss 0.6819\n",
      "Epoch 6 Batch 100 Loss 0.7344\n",
      "Epoch 6 Batch 200 Loss 0.7262\n",
      "Epoch 6 Batch 300 Loss 0.7723\n",
      "Epoch 6 Batch 400 Loss 0.6823\n",
      "Epoch 6 Batch 500 Loss 0.6144\n",
      "Epoch 6 Batch 600 Loss 0.6513\n",
      "Epoch 6 Batch 700 Loss 0.7966\n",
      "Epoch 6 Loss 0.6946\n",
      "Time taken for 1 epoch 101.85958170890808 sec\n",
      "\n",
      "Epoch 7 Batch 0 Loss 0.5877\n",
      "Epoch 7 Batch 100 Loss 0.5254\n",
      "Epoch 7 Batch 200 Loss 0.5673\n",
      "Epoch 7 Batch 300 Loss 0.5223\n",
      "Epoch 7 Batch 400 Loss 0.4965\n",
      "Epoch 7 Batch 500 Loss 0.6146\n",
      "Epoch 7 Batch 600 Loss 0.5728\n",
      "Epoch 7 Batch 700 Loss 0.5930\n",
      "Epoch 7 Loss 0.5650\n",
      "Time taken for 1 epoch 101.22624278068542 sec\n",
      "\n",
      "Epoch 8 Batch 0 Loss 0.4039\n",
      "Epoch 8 Batch 100 Loss 0.4910\n",
      "Epoch 8 Batch 200 Loss 0.4776\n",
      "Epoch 8 Batch 300 Loss 0.4718\n",
      "Epoch 8 Batch 400 Loss 0.5281\n",
      "Epoch 8 Batch 500 Loss 0.5177\n",
      "Epoch 8 Batch 600 Loss 0.4822\n",
      "Epoch 8 Batch 700 Loss 0.5278\n",
      "Epoch 8 Loss 0.4582\n",
      "Time taken for 1 epoch 101.77358627319336 sec\n",
      "\n",
      "Epoch 9 Batch 0 Loss 0.3167\n",
      "Epoch 9 Batch 100 Loss 0.3484\n",
      "Epoch 9 Batch 200 Loss 0.3563\n",
      "Epoch 9 Batch 300 Loss 0.3600\n",
      "Epoch 9 Batch 400 Loss 0.4413\n",
      "Epoch 9 Batch 500 Loss 0.4219\n",
      "Epoch 9 Batch 600 Loss 0.3879\n",
      "Epoch 9 Batch 700 Loss 0.4161\n",
      "Epoch 9 Loss 0.3719\n",
      "Time taken for 1 epoch 100.36781787872314 sec\n",
      "\n",
      "Epoch 10 Batch 0 Loss 0.2955\n",
      "Epoch 10 Batch 100 Loss 0.2704\n",
      "Epoch 10 Batch 200 Loss 0.2944\n",
      "Epoch 10 Batch 300 Loss 0.2490\n",
      "Epoch 10 Batch 400 Loss 0.2635\n",
      "Epoch 10 Batch 500 Loss 0.3229\n",
      "Epoch 10 Batch 600 Loss 0.3610\n",
      "Epoch 10 Batch 700 Loss 0.3067\n",
      "Epoch 10 Loss 0.3011\n",
      "Time taken for 1 epoch 101.34643316268921 sec\n",
      "\n",
      "Epoch 11 Batch 0 Loss 0.1879\n",
      "Epoch 11 Batch 100 Loss 0.2164\n",
      "Epoch 11 Batch 200 Loss 0.2229\n",
      "Epoch 11 Batch 300 Loss 0.2781\n",
      "Epoch 11 Batch 400 Loss 0.2561\n",
      "Epoch 11 Batch 500 Loss 0.2614\n",
      "Epoch 11 Batch 600 Loss 0.2881\n",
      "Epoch 11 Batch 700 Loss 0.3259\n",
      "Epoch 11 Loss 0.2419\n",
      "Time taken for 1 epoch 100.85775136947632 sec\n",
      "\n",
      "Epoch 12 Batch 0 Loss 0.1898\n",
      "Epoch 12 Batch 100 Loss 0.1535\n",
      "Epoch 12 Batch 200 Loss 0.1476\n",
      "Epoch 12 Batch 300 Loss 0.2088\n",
      "Epoch 12 Batch 400 Loss 0.1922\n",
      "Epoch 12 Batch 500 Loss 0.2193\n",
      "Epoch 12 Batch 600 Loss 0.2243\n",
      "Epoch 12 Batch 700 Loss 0.2249\n",
      "Epoch 12 Loss 0.1984\n",
      "Time taken for 1 epoch 100.83113288879395 sec\n",
      "\n",
      "Epoch 13 Batch 0 Loss 0.1465\n",
      "Epoch 13 Batch 100 Loss 0.1180\n",
      "Epoch 13 Batch 200 Loss 0.1560\n",
      "Epoch 13 Batch 300 Loss 0.1956\n",
      "Epoch 13 Batch 400 Loss 0.2275\n",
      "Epoch 13 Batch 500 Loss 0.1833\n",
      "Epoch 13 Batch 600 Loss 0.1801\n",
      "Epoch 13 Batch 700 Loss 0.2053\n",
      "Epoch 13 Loss 0.1645\n",
      "Time taken for 1 epoch 100.43343997001648 sec\n",
      "\n",
      "Epoch 14 Batch 0 Loss 0.1147\n",
      "Epoch 14 Batch 100 Loss 0.1290\n",
      "Epoch 14 Batch 200 Loss 0.1035\n",
      "Epoch 14 Batch 300 Loss 0.1492\n",
      "Epoch 14 Batch 400 Loss 0.1621\n",
      "Epoch 14 Batch 500 Loss 0.1273\n",
      "Epoch 14 Batch 600 Loss 0.1496\n",
      "Epoch 14 Batch 700 Loss 0.1626\n",
      "Epoch 14 Loss 0.1403\n",
      "Time taken for 1 epoch 101.55529737472534 sec\n",
      "\n",
      "Epoch 15 Batch 0 Loss 0.1074\n",
      "Epoch 15 Batch 100 Loss 0.1077\n",
      "Epoch 15 Batch 200 Loss 0.1147\n",
      "Epoch 15 Batch 300 Loss 0.1408\n",
      "Epoch 15 Batch 400 Loss 0.1292\n",
      "Epoch 15 Batch 500 Loss 0.1667\n",
      "Epoch 15 Batch 600 Loss 0.1065\n",
      "Epoch 15 Batch 700 Loss 0.1153\n",
      "Epoch 15 Loss 0.1311\n",
      "Time taken for 1 epoch 100.74411034584045 sec\n",
      "\n",
      "Epoch 16 Batch 0 Loss 0.1123\n",
      "Epoch 16 Batch 100 Loss 0.0954\n",
      "Epoch 16 Batch 200 Loss 0.1185\n",
      "Epoch 16 Batch 300 Loss 0.1162\n",
      "Epoch 16 Batch 400 Loss 0.1312\n",
      "Epoch 16 Batch 500 Loss 0.1245\n",
      "Epoch 16 Batch 600 Loss 0.1293\n",
      "Epoch 16 Batch 700 Loss 0.1349\n",
      "Epoch 16 Loss 0.1129\n",
      "Time taken for 1 epoch 101.34197902679443 sec\n",
      "\n",
      "Epoch 17 Batch 0 Loss 0.0756\n",
      "Epoch 17 Batch 100 Loss 0.0934\n",
      "Epoch 17 Batch 200 Loss 0.0892\n",
      "Epoch 17 Batch 300 Loss 0.0936\n",
      "Epoch 17 Batch 400 Loss 0.1305\n",
      "Epoch 17 Batch 500 Loss 0.1366\n",
      "Epoch 17 Batch 600 Loss 0.0893\n",
      "Epoch 17 Batch 700 Loss 0.1233\n",
      "Epoch 17 Loss 0.1032\n",
      "Time taken for 1 epoch 101.13745188713074 sec\n",
      "\n",
      "Epoch 18 Batch 0 Loss 0.0675\n",
      "Epoch 18 Batch 100 Loss 0.1006\n",
      "Epoch 18 Batch 200 Loss 0.0953\n",
      "Epoch 18 Batch 300 Loss 0.1098\n",
      "Epoch 18 Batch 400 Loss 0.1071\n",
      "Epoch 18 Batch 500 Loss 0.1064\n",
      "Epoch 18 Batch 600 Loss 0.0924\n",
      "Epoch 18 Batch 700 Loss 0.1095\n",
      "Epoch 18 Loss 0.0994\n",
      "Time taken for 1 epoch 100.86759924888611 sec\n",
      "\n",
      "Epoch 19 Batch 0 Loss 0.0715\n",
      "Epoch 19 Batch 100 Loss 0.0897\n",
      "Epoch 19 Batch 200 Loss 0.0720\n",
      "Epoch 19 Batch 300 Loss 0.0726\n",
      "Epoch 19 Batch 400 Loss 0.1035\n",
      "Epoch 19 Batch 500 Loss 0.1021\n",
      "Epoch 19 Batch 600 Loss 0.1144\n",
      "Epoch 19 Batch 700 Loss 0.1399\n",
      "Epoch 19 Loss 0.0964\n",
      "Time taken for 1 epoch 101.2869782447815 sec\n",
      "\n",
      "Epoch 20 Batch 0 Loss 0.1100\n",
      "Epoch 20 Batch 100 Loss 0.0659\n",
      "Epoch 20 Batch 200 Loss 0.0678\n",
      "Epoch 20 Batch 300 Loss 0.0954\n",
      "Epoch 20 Batch 400 Loss 0.0945\n",
      "Epoch 20 Batch 500 Loss 0.0869\n",
      "Epoch 20 Batch 600 Loss 0.0873\n",
      "Epoch 20 Batch 700 Loss 0.1572\n",
      "Epoch 20 Loss 0.0909\n",
      "Time taken for 1 epoch 101.6501579284668 sec\n",
      "\n"
     ]
    }
   ],
   "source": [
    "import time\n",
    "\n",
    "EPOCHS = 20\n",
    "\n",
    "for epoch in range(EPOCHS):\n",
    "    start = time.time()\n",
    "\n",
    "    enc_hidden = encoder.initialize_hidden_state()\n",
    "    total_loss = 0\n",
    "\n",
    "    for (batch, (inp, targ)) in enumerate(dataset.take(steps_per_epoch)):\n",
    "        batch_loss = train_step(inp, targ, enc_hidden)\n",
    "        total_loss += batch_loss\n",
    "\n",
    "        if batch % 100 == 0:\n",
    "              print('Epoch {} Batch {} Loss {:.4f}'.format(epoch + 1,\n",
    "                                                     batch,\n",
    "                                                     batch_loss.numpy()))\n",
    "    # 2 エポックごとにモデル（のチェックポイント）を保存\n",
    "    if (epoch + 1) % 2 == 0:\n",
    "        checkpoint.save(file_prefix = checkpoint_prefix)\n",
    "\n",
    "    print('Epoch {} Loss {:.4f}'.format(epoch + 1,\n",
    "                                      total_loss / steps_per_epoch))\n",
    "    print('Time taken for 1 epoch {} sec\\n'.format(time.time() - start))"
   ]
  },
  {
   "cell_type": "code",
   "execution_count": 19,
   "metadata": {},
   "outputs": [],
   "source": [
    "def predict(inputs):\n",
    "    inputs = tf.convert_to_tensor(inputs)\n",
    "    predicted_seq = []\n",
    "    \n",
    "    hidden = [tf.zeros((1, units))]\n",
    "    enc_out, enc_hidden = encoder(inputs, hidden)\n",
    "\n",
    "    dec_hidden = enc_hidden\n",
    "    dec_input = tf.expand_dims([targ_lang.word_index['<start>']], 0)\n",
    "\n",
    "    for t in range(max_length_targ):\n",
    "        predictions, dec_hidden, attention_weights = decoder(dec_input,\n",
    "                                                             dec_hidden,\n",
    "                                                             enc_out)\n",
    "\n",
    "        # 後ほどプロットするためにアテンションの重みを保存\n",
    "        attention_weights = tf.reshape(attention_weights, (-1, ))\n",
    "\n",
    "        predicted_id = tf.argmax(predictions[0]).numpy()\n",
    "\n",
    "        predicted_seq.append(predicted_id)\n",
    "\n",
    "        if targ_lang.index_word[predicted_id] == '<end>':\n",
    "            return predicted_seq\n",
    "\n",
    "        # 予測された ID がモデルに戻される\n",
    "        dec_input = tf.expand_dims([predicted_id], 0)\n",
    "\n",
    "    return predicted_seq\n",
    "    "
   ]
  },
  {
   "cell_type": "code",
   "execution_count": 20,
   "metadata": {
    "executionInfo": {
     "elapsed": 1986744,
     "status": "ok",
     "timestamp": 1612535588224,
     "user": {
      "displayName": "Masatoshi Itagaki",
      "photoUrl": "https://lh3.googleusercontent.com/a-/AOh14GjjMZX1uH0izIppjc9JsftJYiUHWDycpKYMG80UVQ=s64",
      "userId": "04462290006021813429"
     },
     "user_tz": -540
    },
    "id": "H6kO2HY0bEn0"
   },
   "outputs": [],
   "source": [
    "import numpy as np\n",
    "\n",
    "def evaluate(sentence):\n",
    "    attention_plot = np.zeros((max_length_targ, max_length_inp))\n",
    "\n",
    "    inputs = [inp_lang.word_index[i] for i in sentence.split(' ')]\n",
    "    inputs = tf.keras.preprocessing.sequence.pad_sequences([inputs],\n",
    "                                                           maxlen=max_length_inp,\n",
    "                                                           padding='post')\n",
    "    inputs = tf.convert_to_tensor(inputs)\n",
    "\n",
    "    result = ''\n",
    "\n",
    "    hidden = [tf.zeros((1, units))]\n",
    "    enc_out, enc_hidden = encoder(inputs, hidden)\n",
    "\n",
    "    dec_hidden = enc_hidden\n",
    "    dec_input = tf.expand_dims([targ_lang.word_index['<start>']], 0)\n",
    "\n",
    "    for t in range(max_length_targ):\n",
    "        predictions, dec_hidden, attention_weights = decoder(dec_input,\n",
    "                                                             dec_hidden,\n",
    "                                                             enc_out)\n",
    "\n",
    "        # 後ほどプロットするためにアテンションの重みを保存\n",
    "        attention_weights = tf.reshape(attention_weights, (-1, ))\n",
    "        attention_plot[t] = attention_weights.numpy()\n",
    "\n",
    "        predicted_id = tf.argmax(predictions[0]).numpy()\n",
    "\n",
    "        result += targ_lang.index_word[predicted_id] + ' '\n",
    "\n",
    "        if targ_lang.index_word[predicted_id] == '<end>':\n",
    "            return result, sentence, attention_plot\n",
    "\n",
    "        # 予測された ID がモデルに戻される\n",
    "        dec_input = tf.expand_dims([predicted_id], 0)\n",
    "\n",
    "    return result, sentence, attention_plot"
   ]
  },
  {
   "cell_type": "code",
   "execution_count": 21,
   "metadata": {
    "executionInfo": {
     "elapsed": 1986740,
     "status": "ok",
     "timestamp": 1612535588225,
     "user": {
      "displayName": "Masatoshi Itagaki",
      "photoUrl": "https://lh3.googleusercontent.com/a-/AOh14GjjMZX1uH0izIppjc9JsftJYiUHWDycpKYMG80UVQ=s64",
      "userId": "04462290006021813429"
     },
     "user_tz": -540
    },
    "id": "tnwoWfkYfwBZ"
   },
   "outputs": [],
   "source": [
    "import matplotlib.pyplot as plt\n",
    "import matplotlib.ticker as ticker\n",
    "import japanize_matplotlib\n",
    "\n",
    "# アテンションの重みをプロットする関数\n",
    "def plot_attention(attention, sentence, predicted_sentence):\n",
    "    fig = plt.figure(figsize=(10,10))\n",
    "    ax = fig.add_subplot(1, 1, 1)\n",
    "    ax.matshow(attention, cmap='viridis')\n",
    "\n",
    "    fontdict = {'fontsize': 14}\n",
    "\n",
    "    ax.set_xticklabels([''] + sentence, fontdict=fontdict, rotation=90)\n",
    "    ax.set_yticklabels([''] + predicted_sentence, fontdict=fontdict)\n",
    "\n",
    "    ax.xaxis.set_major_locator(ticker.MultipleLocator(1))\n",
    "    ax.yaxis.set_major_locator(ticker.MultipleLocator(1))\n",
    "\n",
    "    plt.show()"
   ]
  },
  {
   "cell_type": "code",
   "execution_count": 22,
   "metadata": {
    "executionInfo": {
     "elapsed": 1986735,
     "status": "ok",
     "timestamp": 1612535588226,
     "user": {
      "displayName": "Masatoshi Itagaki",
      "photoUrl": "https://lh3.googleusercontent.com/a-/AOh14GjjMZX1uH0izIppjc9JsftJYiUHWDycpKYMG80UVQ=s64",
      "userId": "04462290006021813429"
     },
     "user_tz": -540
    },
    "id": "q-zIxy2Zf3vw"
   },
   "outputs": [],
   "source": [
    "def translate(sentence):\n",
    "    result, sentence, attention_plot = evaluate(sentence)\n",
    "\n",
    "    print('Input: %s' % (sentence))\n",
    "    print('Predicted translation: {}'.format(result))\n",
    "\n",
    "    attention_plot = attention_plot[:len(result.split(' ')), :len(sentence.split(' '))]\n",
    "    plot_attention(attention_plot, sentence.split(' '), result.split(' '))"
   ]
  },
  {
   "cell_type": "code",
   "execution_count": 23,
   "metadata": {
    "colab": {
     "base_uri": "https://localhost:8080/"
    },
    "executionInfo": {
     "elapsed": 1986983,
     "status": "ok",
     "timestamp": 1612535588478,
     "user": {
      "displayName": "Masatoshi Itagaki",
      "photoUrl": "https://lh3.googleusercontent.com/a-/AOh14GjjMZX1uH0izIppjc9JsftJYiUHWDycpKYMG80UVQ=s64",
      "userId": "04462290006021813429"
     },
     "user_tz": -540
    },
    "id": "mIbzsxI-f8Z9",
    "outputId": "59c2afce-8f46-45af-c773-e8be712eb93a"
   },
   "outputs": [
    {
     "data": {
      "text/plain": [
       "<tensorflow.python.training.tracking.util.CheckpointLoadStatus at 0x7f26b4296b38>"
      ]
     },
     "execution_count": 23,
     "metadata": {},
     "output_type": "execute_result"
    }
   ],
   "source": [
    "# checkpoint_dir の中の最後のチェックポイントを復元\n",
    "checkpoint.restore(tf.train.latest_checkpoint(checkpoint_dir))"
   ]
  },
  {
   "cell_type": "code",
   "execution_count": 29,
   "metadata": {
    "colab": {
     "base_uri": "https://localhost:8080/",
     "height": 705
    },
    "executionInfo": {
     "elapsed": 1987264,
     "status": "ok",
     "timestamp": 1612535588788,
     "user": {
      "displayName": "Masatoshi Itagaki",
      "photoUrl": "https://lh3.googleusercontent.com/a-/AOh14GjjMZX1uH0izIppjc9JsftJYiUHWDycpKYMG80UVQ=s64",
      "userId": "04462290006021813429"
     },
     "user_tz": -540
    },
    "id": "aX4evgWVf9xa",
    "outputId": "831a9943-b7d0-4458-c854-0203c14ea490"
   },
   "outputs": [
    {
     "name": "stdout",
     "output_type": "stream",
     "text": [
      "Input: <start> i can 't hear you . <end>\n",
      "Predicted translation: あなた の おっしゃ る こと が 聞こえ ま せ ん 。 <end> \n"
     ]
    },
    {
     "name": "stderr",
     "output_type": "stream",
     "text": [
      "/usr/local/lib/python3.6/dist-packages/ipykernel_launcher.py:13: UserWarning: FixedFormatter should only be used together with FixedLocator\n",
      "  del sys.path[0]\n",
      "/usr/local/lib/python3.6/dist-packages/ipykernel_launcher.py:14: UserWarning: FixedFormatter should only be used together with FixedLocator\n",
      "  \n"
     ]
    },
    {
     "data": {
      "image/png": "[encoded data removed]",
      "text/plain": [
       "<Figure size 720x720 with 1 Axes>"
      ]
     },
     "metadata": {
      "needs_background": "light"
     },
     "output_type": "display_data"
    }
   ],
   "source": [
    "translate(\"<start> i can 't hear you . <end>\")"
   ]
  },
  {
   "cell_type": "code",
   "execution_count": 25,
   "metadata": {
    "id": "9qYv1rYq1Lu5"
   },
   "outputs": [],
   "source": [
    "from nltk.translate.bleu_score import sentence_bleu, SmoothingFunction\n",
    "import pandas as pd\n",
    "\n",
    "input_sentences = []\n",
    "target_sentences = []\n",
    "predicted_sentences = []\n",
    "\n",
    "for i, input_en in enumerate(input_tensor_val):\n",
    "    predicted_ja = predict([input_en])\n",
    "    tokens_input = [inp_lang.index_word[id] for id in input_en if id > 2]\n",
    "    tokens_target = [targ_lang.index_word[id] for id in target_tensor_val[i] if id > 2]\n",
    "    tokens_predicted = [targ_lang.index_word[id] for id in predicted_ja if id > 2]\n",
    "    input_sentences.append(' '.join(tokens_input))\n",
    "    target_sentences.append(''.join(tokens_target))\n",
    "    predicted_sentences.append(''.join(tokens_predicted))\n",
    "\n",
    "result_df = pd.DataFrame({'input_sentence': input_sentences,\n",
    "                          'target_sentence': target_sentences,\n",
    "                          'predicted_sentence': predicted_sentences})  \n"
   ]
  },
  {
   "cell_type": "code",
   "execution_count": 26,
   "metadata": {
    "id": "16qn07BeMCJs"
   },
   "outputs": [],
   "source": [
    "bleu_scores = []\n",
    "for row in result_df.itertuples():\n",
    "    bleu_scores.append(\n",
    "        sentence_bleu(row.target_sentence, row.predicted_sentence,\n",
    "                      smoothing_function=SmoothingFunction().method4)\n",
    "    )\n",
    "result_df['bleu_score'] = bleu_scores"
   ]
  },
  {
   "cell_type": "code",
   "execution_count": 27,
   "metadata": {
    "colab": {
     "base_uri": "https://localhost:8080/",
     "height": 476
    },
    "id": "bGnwSEkf9HlM",
    "outputId": "9ed3d5f6-4579-49b9-c4e1-eee0f13b19c2"
   },
   "outputs": [
    {
     "data": {
      "text/html": [
       "<div>\n",
       "<style scoped>\n",
       "    .dataframe tbody tr th:only-of-type {\n",
       "        vertical-align: middle;\n",
       "    }\n",
       "\n",
       "    .dataframe tbody tr th {\n",
       "        vertical-align: top;\n",
       "    }\n",
       "\n",
       "    .dataframe thead th {\n",
       "        text-align: right;\n",
       "    }\n",
       "</style>\n",
       "<table border=\"1\" class=\"dataframe\">\n",
       "  <thead>\n",
       "    <tr style=\"text-align: right;\">\n",
       "      <th></th>\n",
       "      <th>input_sentence</th>\n",
       "      <th>target_sentence</th>\n",
       "      <th>predicted_sentence</th>\n",
       "      <th>bleu_score</th>\n",
       "    </tr>\n",
       "  </thead>\n",
       "  <tbody>\n",
       "    <tr>\n",
       "      <th>0</th>\n",
       "      <td>i was wrong .</td>\n",
       "      <td>私が間違っていました。</td>\n",
       "      <td>私は間違っていました。</td>\n",
       "      <td>0.533355</td>\n",
       "    </tr>\n",
       "    <tr>\n",
       "      <th>1</th>\n",
       "      <td>she is going to learn how to drive .</td>\n",
       "      <td>彼女は近く、運転を習うつもりでいます。</td>\n",
       "      <td>彼女は車を学ぶ気が立っています。</td>\n",
       "      <td>0.311208</td>\n",
       "    </tr>\n",
       "    <tr>\n",
       "      <th>2</th>\n",
       "      <td>i am fond of skiing .</td>\n",
       "      <td>私はスキーが好きだ。</td>\n",
       "      <td>スキーが好き。</td>\n",
       "      <td>0.932776</td>\n",
       "    </tr>\n",
       "    <tr>\n",
       "      <th>3</th>\n",
       "      <td>i will start working on july the first .</td>\n",
       "      <td>７月１日から仕事を始めます。</td>\n",
       "      <td>私は一番のところを始めます。</td>\n",
       "      <td>0.342626</td>\n",
       "    </tr>\n",
       "    <tr>\n",
       "      <th>4</th>\n",
       "      <td>ken took the examination with confidence .</td>\n",
       "      <td>ケンは自信をもって試験を受けた。</td>\n",
       "      <td>ケンは試験を受けた。</td>\n",
       "      <td>0.606993</td>\n",
       "    </tr>\n",
       "    <tr>\n",
       "      <th>...</th>\n",
       "      <td>...</td>\n",
       "      <td>...</td>\n",
       "      <td>...</td>\n",
       "      <td>...</td>\n",
       "    </tr>\n",
       "    <tr>\n",
       "      <th>4995</th>\n",
       "      <td>either you or i am in the wrong .</td>\n",
       "      <td>あなたか私かどちらかが間違っている。</td>\n",
       "      <td>君か僕の意見が間違っている。</td>\n",
       "      <td>0.379178</td>\n",
       "    </tr>\n",
       "    <tr>\n",
       "      <th>4996</th>\n",
       "      <td>you 've got it in one . that 's right .</td>\n",
       "      <td>君はすぐに分かったんだね。そのとおりだよ。</td>\n",
       "      <td>それはそれであると思ったのだから。</td>\n",
       "      <td>0.297320</td>\n",
       "    </tr>\n",
       "    <tr>\n",
       "      <th>4997</th>\n",
       "      <td>all you have to do is believe me .</td>\n",
       "      <td>君は僕を信じさえすれば良い。</td>\n",
       "      <td>君は私を信じさえすればよい。</td>\n",
       "      <td>0.407453</td>\n",
       "    </tr>\n",
       "    <tr>\n",
       "      <th>4998</th>\n",
       "      <td>i was embarrassed by what she said .</td>\n",
       "      <td>彼女の言葉を聞いてどぎまぎした。</td>\n",
       "      <td>僕は彼女の言って彼女の言ってしまったことに困惑</td>\n",
       "      <td>0.200410</td>\n",
       "    </tr>\n",
       "    <tr>\n",
       "      <th>4999</th>\n",
       "      <td>i can 't hear you .</td>\n",
       "      <td>聞こえませんよ。</td>\n",
       "      <td>あなたのおっしゃることが聞こえません。</td>\n",
       "      <td>0.243706</td>\n",
       "    </tr>\n",
       "  </tbody>\n",
       "</table>\n",
       "<p>5000 rows × 4 columns</p>\n",
       "</div>"
      ],
      "text/plain": [
       "                                  input_sentence        target_sentence  \\\n",
       "0                                  i was wrong .            私が間違っていました。   \n",
       "1           she is going to learn how to drive .    彼女は近く、運転を習うつもりでいます。   \n",
       "2                          i am fond of skiing .             私はスキーが好きだ。   \n",
       "3       i will start working on july the first .         ７月１日から仕事を始めます。   \n",
       "4     ken took the examination with confidence .       ケンは自信をもって試験を受けた。   \n",
       "...                                          ...                    ...   \n",
       "4995           either you or i am in the wrong .     あなたか私かどちらかが間違っている。   \n",
       "4996     you 've got it in one . that 's right .  君はすぐに分かったんだね。そのとおりだよ。   \n",
       "4997          all you have to do is believe me .         君は僕を信じさえすれば良い。   \n",
       "4998        i was embarrassed by what she said .       彼女の言葉を聞いてどぎまぎした。   \n",
       "4999                         i can 't hear you .               聞こえませんよ。   \n",
       "\n",
       "           predicted_sentence  bleu_score  \n",
       "0                 私は間違っていました。    0.533355  \n",
       "1            彼女は車を学ぶ気が立っています。    0.311208  \n",
       "2                     スキーが好き。    0.932776  \n",
       "3              私は一番のところを始めます。    0.342626  \n",
       "4                  ケンは試験を受けた。    0.606993  \n",
       "...                       ...         ...  \n",
       "4995           君か僕の意見が間違っている。    0.379178  \n",
       "4996        それはそれであると思ったのだから。    0.297320  \n",
       "4997           君は私を信じさえすればよい。    0.407453  \n",
       "4998  僕は彼女の言って彼女の言ってしまったことに困惑    0.200410  \n",
       "4999      あなたのおっしゃることが聞こえません。    0.243706  \n",
       "\n",
       "[5000 rows x 4 columns]"
      ]
     },
     "execution_count": 27,
     "metadata": {},
     "output_type": "execute_result"
    }
   ],
   "source": [
    "result_df"
   ]
  },
  {
   "cell_type": "code",
   "execution_count": 28,
   "metadata": {
    "colab": {
     "base_uri": "https://localhost:8080/"
    },
    "id": "O9hQ_XKxIQ2W",
    "outputId": "3e30de47-f27d-48d9-9cb2-ddb562fbeb71"
   },
   "outputs": [
    {
     "data": {
      "text/plain": [
       "0.4239057127925631"
      ]
     },
     "execution_count": 28,
     "metadata": {},
     "output_type": "execute_result"
    }
   ],
   "source": [
    "result_df.bleu_score.mean()"
   ]
  },
  {
   "cell_type": "code",
   "execution_count": null,
   "metadata": {
    "executionInfo": {
     "elapsed": 1987240,
     "status": "ok",
     "timestamp": 1612535588789,
     "user": {
      "displayName": "Masatoshi Itagaki",
      "photoUrl": "https://lh3.googleusercontent.com/a-/AOh14GjjMZX1uH0izIppjc9JsftJYiUHWDycpKYMG80UVQ=s64",
      "userId": "04462290006021813429"
     },
     "user_tz": -540
    },
    "id": "9qYv1rYq1Lu5"
   },
   "outputs": [],
   "source": []
  }
 ],
 "metadata": {
  "accelerator": "GPU",
  "colab": {
   "authorship_tag": "ABX9TyMgTzeT+AoMej2E7PB7H2z+",
   "collapsed_sections": [],
   "name": "seq2seq_with_attention.ipynb",
   "provenance": []
  },
  "kernelspec": {
   "display_name": "Python 3",
   "language": "python",
   "name": "python3"
  },
  "language_info": {
   "codemirror_mode": {
    "name": "ipython",
    "version": 3
   },
   "file_extension": ".py",
   "mimetype": "text/x-python",
   "name": "python",
   "nbconvert_exporter": "python",
   "pygments_lexer": "ipython3",
   "version": "3.6.9"
  }
 },
 "nbformat": 4,
 "nbformat_minor": 4
}
