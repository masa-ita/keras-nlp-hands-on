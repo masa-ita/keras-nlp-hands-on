{
  "nbformat": 4,
  "nbformat_minor": 0,
  "metadata": {
    "colab": {
      "name": "livedoor_news_classifier.ipynb",
      "provenance": [],
      "collapsed_sections": []
    },
    "kernelspec": {
      "name": "python3",
      "display_name": "Python 3"
    },
    "accelerator": "GPU"
  },
  "cells": [
    {
      "cell_type": "markdown",
      "metadata": {
        "id": "4DSAkbBir4Q0"
      },
      "source": [
        "# livedoorニュースの分類\n",
        "## Janomeのインストール"
      ]
    },
    {
      "cell_type": "code",
      "metadata": {
        "id": "95ZCsC-kMfIp",
        "colab": {
          "base_uri": "https://localhost:8080/"
        },
        "outputId": "35e2f6db-4086-4fc2-f8ce-1f02e64165f9"
      },
      "source": [
        "!pip install janome"
      ],
      "execution_count": 1,
      "outputs": [
        {
          "output_type": "stream",
          "text": [
            "Requirement already satisfied: janome in /usr/local/lib/python3.6/dist-packages (0.4.1)\n"
          ],
          "name": "stdout"
        }
      ]
    },
    {
      "cell_type": "markdown",
      "metadata": {
        "id": "puPer6GPsDfC"
      },
      "source": [
        "## データファイルのダウンロードと解凍"
      ]
    },
    {
      "cell_type": "code",
      "metadata": {
        "id": "nBz6-6rOPhZF"
      },
      "source": [
        "import tarfile \n",
        "from urllib.request import urlretrieve\n",
        "\n",
        "FILE_URL = 'https://www.rondhuit.com/download/ldcc-20140209.tar.gz'\n",
        "FILE_PATH = '/content/ldcc-20140209.tar.gz'\n",
        "EXTRACT_DIR = '/content'\n",
        "\n",
        "urlretrieve(FILE_URL, FILE_PATH)\n",
        "\n",
        "mode = \"r:gz\"\n",
        "tar = tarfile.open(FILE_PATH, mode) \n",
        "tar.extractall(EXTRACT_DIR) \n",
        "tar.close()"
      ],
      "execution_count": 1,
      "outputs": []
    },
    {
      "cell_type": "code",
      "metadata": {
        "id": "JBkXQA7TPqFU",
        "colab": {
          "base_uri": "https://localhost:8080/"
        },
        "outputId": "f0badc6d-bd69-42ef-e5e7-fc6fdf47d640"
      },
      "source": [
        "!ls -l /content/text"
      ],
      "execution_count": 2,
      "outputs": [
        {
          "output_type": "stream",
          "text": [
            "total 364\n",
            "-rw-r--r-- 1 501 staff   223 Sep 15  2012 CHANGES.txt\n",
            "drwxr-xr-x 2 501 staff 53248 Feb  9  2014 dokujo-tsushin\n",
            "drwxr-xr-x 2 501 staff 36864 Feb  9  2014 it-life-hack\n",
            "drwxr-xr-x 2 501 staff 53248 Feb  9  2014 kaden-channel\n",
            "drwxr-xr-x 2 501 staff 32768 Feb  9  2014 livedoor-homme\n",
            "drwxr-xr-x 2 501 staff 36864 Feb  9  2014 movie-enter\n",
            "drwxr-xr-x 2 501 staff 36864 Feb  9  2014 peachy\n",
            "-rw-r--r-- 1 501 staff  2182 Sep 13  2012 README.txt\n",
            "drwxr-xr-x 2 501 staff 36864 Feb  9  2014 smax\n",
            "drwxr-xr-x 2 501 staff 40960 Feb  9  2014 sports-watch\n",
            "drwxr-xr-x 2 501 staff 36864 Feb  9  2014 topic-news\n"
          ],
          "name": "stdout"
        }
      ]
    },
    {
      "cell_type": "markdown",
      "metadata": {
        "id": "1TJKB43nMa3U"
      },
      "source": [
        "## 記事ファイルの読み込み"
      ]
    },
    {
      "cell_type": "code",
      "metadata": {
        "id": "J3nFNgwPMa3W"
      },
      "source": [
        "import os\n",
        "import pandas as pd\n",
        "\n",
        "base_dir = '/content/text'\n",
        "\n",
        "category = pd.Series(name='category', dtype='str')\n",
        "url = pd.Series(name='url', dtype='str')\n",
        "time_published = pd.Series(name='time_published', dtype='object')\n",
        "title = pd.Series(name='title', dtype='str')\n",
        "text = pd.Series(name='text', dtype='str')\n",
        "\n",
        "index = 0\n",
        "\n",
        "for name in os.listdir(base_dir):\n",
        "    if os.path.isdir(os.path.join(base_dir, name)):\n",
        "        for file in os.listdir(os.path.join(base_dir, name)):\n",
        "            if file != 'LICENSE.txt':\n",
        "                with open(os.path.join(base_dir, name, file), 'r') as f:\n",
        "                    lines = f.readlines()\n",
        "                category.at[index] = name\n",
        "                url.at[index] = lines[0].rstrip()\n",
        "                time_published.at[index] = lines[1].rstrip()\n",
        "                title.at[index] = lines[2].rstrip()\n",
        "                text.at[index] = ''.join(lines[3:])\n",
        "                index += 1"
      ],
      "execution_count": 4,
      "outputs": []
    },
    {
      "cell_type": "code",
      "metadata": {
        "id": "rSwpzF_JMa3b"
      },
      "source": [
        "df = pd.concat([category, url, time_published, title, text], axis=1)"
      ],
      "execution_count": 5,
      "outputs": []
    },
    {
      "cell_type": "code",
      "metadata": {
        "id": "QYebo3NOMa3e",
        "colab": {
          "base_uri": "https://localhost:8080/",
          "height": 492
        },
        "outputId": "93718d02-baac-4bd4-a64f-16fae6caacb9"
      },
      "source": [
        "df.head()"
      ],
      "execution_count": 6,
      "outputs": [
        {
          "output_type": "execute_result",
          "data": {
            "text/html": [
              "<div>\n",
              "<style scoped>\n",
              "    .dataframe tbody tr th:only-of-type {\n",
              "        vertical-align: middle;\n",
              "    }\n",
              "\n",
              "    .dataframe tbody tr th {\n",
              "        vertical-align: top;\n",
              "    }\n",
              "\n",
              "    .dataframe thead th {\n",
              "        text-align: right;\n",
              "    }\n",
              "</style>\n",
              "<table border=\"1\" class=\"dataframe\">\n",
              "  <thead>\n",
              "    <tr style=\"text-align: right;\">\n",
              "      <th></th>\n",
              "      <th>category</th>\n",
              "      <th>url</th>\n",
              "      <th>time_published</th>\n",
              "      <th>title</th>\n",
              "      <th>text</th>\n",
              "    </tr>\n",
              "  </thead>\n",
              "  <tbody>\n",
              "    <tr>\n",
              "      <th>0</th>\n",
              "      <td>movie-enter</td>\n",
              "      <td>http://news.livedoor.com/article/detail/6660936/</td>\n",
              "      <td>2012-06-15T15:00:00+0900</td>\n",
              "      <td>構想2年、機能性バツグンの“バットマン”メガネが登場</td>\n",
              "      <td>世界的な社会現象を巻き起こした映画『ダークナイト』の続編『ダークナイト ライジング』（7月...</td>\n",
              "    </tr>\n",
              "    <tr>\n",
              "      <th>1</th>\n",
              "      <td>movie-enter</td>\n",
              "      <td>http://news.livedoor.com/article/detail/6371369/</td>\n",
              "      <td>2012-03-16T09:45:00+0900</td>\n",
              "      <td>3社競合“はやぶさ”ツイッター総選挙「そっくりさんは誰だ？」</td>\n",
              "      <td>2010年6月、打ち上げから7年間で60億キロの宇宙の旅から帰還し、人類初のプロジェクトを...</td>\n",
              "    </tr>\n",
              "    <tr>\n",
              "      <th>2</th>\n",
              "      <td>movie-enter</td>\n",
              "      <td>http://news.livedoor.com/article/detail/6111189/</td>\n",
              "      <td>2011-12-12T16:20:00+0900</td>\n",
              "      <td>『スター・ウォーズ』や『アバター』に多大な影響を与えた世紀の大作、注目度No.1俳優が登場</td>\n",
              "      <td>ウォルト・ディズニー生誕110周年にあたる記念すべき2012年、ディズニー・スタジオの総力...</td>\n",
              "    </tr>\n",
              "    <tr>\n",
              "      <th>3</th>\n",
              "      <td>movie-enter</td>\n",
              "      <td>http://news.livedoor.com/article/detail/6222078/</td>\n",
              "      <td>2012-01-25T20:39:00+0900</td>\n",
              "      <td>『荒川アンダーザブリッジ』プレミアイベントに林遣都、桐谷美玲、安倍なつみらキャストが大集合</td>\n",
              "      <td>映画『荒川アンダーザブリッジ THE MOVIE』（2月4日公開）のプレミアイベントが25日...</td>\n",
              "    </tr>\n",
              "    <tr>\n",
              "      <th>4</th>\n",
              "      <td>movie-enter</td>\n",
              "      <td>http://news.livedoor.com/article/detail/6397393/</td>\n",
              "      <td>2012-03-26T10:30:00+0900</td>\n",
              "      <td>“最凶”の教育映画『先生を流産させる会』の劇場公開が実現</td>\n",
              "      <td>「生まれる前に死んだんでしょ。いなかったのと同じじゃん」\\n\\n　公開を前にネットで話題騒...</td>\n",
              "    </tr>\n",
              "  </tbody>\n",
              "</table>\n",
              "</div>"
            ],
            "text/plain": [
              "      category  ...                                               text\n",
              "0  movie-enter  ...  　世界的な社会現象を巻き起こした映画『ダークナイト』の続編『ダークナイト ライジング』（7月...\n",
              "1  movie-enter  ...  　2010年6月、打ち上げから7年間で60億キロの宇宙の旅から帰還し、人類初のプロジェクトを...\n",
              "2  movie-enter  ...  　ウォルト・ディズニー生誕110周年にあたる記念すべき2012年、ディズニー・スタジオの総力...\n",
              "3  movie-enter  ...  映画『荒川アンダーザブリッジ THE MOVIE』（2月4日公開）のプレミアイベントが25日...\n",
              "4  movie-enter  ...  　「生まれる前に死んだんでしょ。いなかったのと同じじゃん」\\n\\n　公開を前にネットで話題騒...\n",
              "\n",
              "[5 rows x 5 columns]"
            ]
          },
          "metadata": {
            "tags": []
          },
          "execution_count": 6
        }
      ]
    },
    {
      "cell_type": "markdown",
      "metadata": {
        "id": "FOMYsfkjMa3k"
      },
      "source": [
        "## Janomeによるテキストのトークン化"
      ]
    },
    {
      "cell_type": "code",
      "metadata": {
        "id": "l3fPCu2LMa3m"
      },
      "source": [
        "from janome.tokenizer import Tokenizer\n",
        "\n",
        "t_wakati = Tokenizer(wakati=True)\n",
        "\n",
        "def tokenize_japanese(text):\n",
        "    return ' '.join(list(t_wakati.tokenize(text)))"
      ],
      "execution_count": 7,
      "outputs": []
    },
    {
      "cell_type": "code",
      "metadata": {
        "id": "7vaOeJYdMa3o"
      },
      "source": [
        "df['text'] = df['text'].map(tokenize_japanese)"
      ],
      "execution_count": 9,
      "outputs": []
    },
    {
      "cell_type": "code",
      "metadata": {
        "id": "HLrkbwgIMa3r",
        "colab": {
          "base_uri": "https://localhost:8080/",
          "height": 456
        },
        "outputId": "b7b89ea4-9231-4d5a-b3e5-342216e5347c"
      },
      "source": [
        "df.head()"
      ],
      "execution_count": 10,
      "outputs": [
        {
          "output_type": "execute_result",
          "data": {
            "text/html": [
              "<div>\n",
              "<style scoped>\n",
              "    .dataframe tbody tr th:only-of-type {\n",
              "        vertical-align: middle;\n",
              "    }\n",
              "\n",
              "    .dataframe tbody tr th {\n",
              "        vertical-align: top;\n",
              "    }\n",
              "\n",
              "    .dataframe thead th {\n",
              "        text-align: right;\n",
              "    }\n",
              "</style>\n",
              "<table border=\"1\" class=\"dataframe\">\n",
              "  <thead>\n",
              "    <tr style=\"text-align: right;\">\n",
              "      <th></th>\n",
              "      <th>category</th>\n",
              "      <th>url</th>\n",
              "      <th>time_published</th>\n",
              "      <th>title</th>\n",
              "      <th>text</th>\n",
              "    </tr>\n",
              "  </thead>\n",
              "  <tbody>\n",
              "    <tr>\n",
              "      <th>0</th>\n",
              "      <td>movie-enter</td>\n",
              "      <td>http://news.livedoor.com/article/detail/6660936/</td>\n",
              "      <td>2012-06-15T15:00:00+0900</td>\n",
              "      <td>構想2年、機能性バツグンの“バットマン”メガネが登場</td>\n",
              "      <td>世界 的 な 社会 現象 を 巻き起こし た 映画 『 ダーク ナイト 』 の 続編 『 ダ...</td>\n",
              "    </tr>\n",
              "    <tr>\n",
              "      <th>1</th>\n",
              "      <td>movie-enter</td>\n",
              "      <td>http://news.livedoor.com/article/detail/6371369/</td>\n",
              "      <td>2012-03-16T09:45:00+0900</td>\n",
              "      <td>3社競合“はやぶさ”ツイッター総選挙「そっくりさんは誰だ？」</td>\n",
              "      <td>2010 年 6 月 、 打ち上げ から 7 年間 で 60 億 キロ の 宇宙 の 旅 か...</td>\n",
              "    </tr>\n",
              "    <tr>\n",
              "      <th>2</th>\n",
              "      <td>movie-enter</td>\n",
              "      <td>http://news.livedoor.com/article/detail/6111189/</td>\n",
              "      <td>2011-12-12T16:20:00+0900</td>\n",
              "      <td>『スター・ウォーズ』や『アバター』に多大な影響を与えた世紀の大作、注目度No.1俳優が登場</td>\n",
              "      <td>ウォルト・ディズニー 生誕 110 周年 にあたる 記念 す べき 2012 年 、 ディズ...</td>\n",
              "    </tr>\n",
              "    <tr>\n",
              "      <th>3</th>\n",
              "      <td>movie-enter</td>\n",
              "      <td>http://news.livedoor.com/article/detail/6222078/</td>\n",
              "      <td>2012-01-25T20:39:00+0900</td>\n",
              "      <td>『荒川アンダーザブリッジ』プレミアイベントに林遣都、桐谷美玲、安倍なつみらキャストが大集合</td>\n",
              "      <td>映画 『 荒川 アンダーザブリッジ   THE   MOVIE 』 （ 2 月 4 日 公開...</td>\n",
              "    </tr>\n",
              "    <tr>\n",
              "      <th>4</th>\n",
              "      <td>movie-enter</td>\n",
              "      <td>http://news.livedoor.com/article/detail/6397393/</td>\n",
              "      <td>2012-03-26T10:30:00+0900</td>\n",
              "      <td>“最凶”の教育映画『先生を流産させる会』の劇場公開が実現</td>\n",
              "      <td>「 生まれる 前 に 死ん だ ん でしょ 。 い なかっ た の と 同じ じゃん 」 \\...</td>\n",
              "    </tr>\n",
              "  </tbody>\n",
              "</table>\n",
              "</div>"
            ],
            "text/plain": [
              "      category  ...                                               text\n",
              "0  movie-enter  ...  世界 的 な 社会 現象 を 巻き起こし た 映画 『 ダーク ナイト 』 の 続編 『 ダ...\n",
              "1  movie-enter  ...  2010 年 6 月 、 打ち上げ から 7 年間 で 60 億 キロ の 宇宙 の 旅 か...\n",
              "2  movie-enter  ...  ウォルト・ディズニー 生誕 110 周年 にあたる 記念 す べき 2012 年 、 ディズ...\n",
              "3  movie-enter  ...  映画 『 荒川 アンダーザブリッジ   THE   MOVIE 』 （ 2 月 4 日 公開...\n",
              "4  movie-enter  ...  「 生まれる 前 に 死ん だ ん でしょ 。 い なかっ た の と 同じ じゃん 」 \\...\n",
              "\n",
              "[5 rows x 5 columns]"
            ]
          },
          "metadata": {
            "tags": []
          },
          "execution_count": 10
        }
      ]
    },
    {
      "cell_type": "markdown",
      "metadata": {
        "id": "AhgksFq0Ma3v"
      },
      "source": [
        "## KerasのTokenizerにより単語を整数にエンコード"
      ]
    },
    {
      "cell_type": "code",
      "metadata": {
        "id": "uI4hcXxFMa3w"
      },
      "source": [
        "import tensorflow as tf\n",
        "\n",
        "MAX_WORDS = 20000 # 最も頻度の高い20,000語のみエンコード\n",
        "\n",
        "tokenizer = tf.keras.preprocessing.text.Tokenizer(num_words=MAX_WORDS)\n",
        "\n",
        "tokenizer.fit_on_texts(df['text'])"
      ],
      "execution_count": 11,
      "outputs": []
    },
    {
      "cell_type": "code",
      "metadata": {
        "id": "eOuJkuPxMa3z"
      },
      "source": [
        "df['sequence'] = tokenizer.texts_to_sequences(df['text'])"
      ],
      "execution_count": 12,
      "outputs": []
    },
    {
      "cell_type": "code",
      "metadata": {
        "id": "tXLsS3woMa32"
      },
      "source": [
        "word2int = tokenizer.word_index"
      ],
      "execution_count": 13,
      "outputs": []
    },
    {
      "cell_type": "code",
      "metadata": {
        "id": "DiMVueGdMa35",
        "colab": {
          "base_uri": "https://localhost:8080/"
        },
        "outputId": "9402a0d1-2bb7-43c9-afe1-91a5651171fd"
      },
      "source": [
        "print(df['sequence'][0])"
      ],
      "execution_count": 14,
      "outputs": [
        {
          "output_type": "stream",
          "text": [
            "[157, 72, 17, 669, 2038, 5, 5115, 9, 76, 43, 1610, 1578, 44, 2, 3231, 43, 1610, 1578, 3536, 44, 19, 130, 52, 648, 37, 149, 18, 2, 149, 5, 848, 12, 8, 1, 443, 10, 868, 5, 608, 21, 54, 7707, 737, 53, 11, 2377, 12, 9, 3362, 5, 115, 21, 23, 6, 492, 12, 9, 3, 25, 121, 1, 115, 26, 66, 3362, 7, 593, 78, 555, 1, 606, 50, 307, 2, 639, 6, 77, 1, 593, 120, 2960, 3, 54, 2657, 5283, 53, 11, 7984, 1, 443, 2, 7707, 737, 10, 152, 52, 759, 37, 93, 4187, 506, 10, 310, 26, 66, 3, 25, 144, 204, 2, 149, 100, 6, 284, 9, 558, 29, 121, 2, 718, 6, 2533, 117, 1, 310, 4, 3742, 73, 4, 50, 55, 226, 2, 16719, 6, 4351, 8, 20, 3, 144, 204, 2, 157, 420, 5, 972, 21, 86, 1, 414, 34, 11799, 5, 147, 239, 15, 2440, 3, 7707, 737, 363, 275, 942, 598, 6, 14598, 2, 3362, 5283, 5, 7184, 1429, 9, 3, 25, 2, 2886, 5, 1674, 21, 472, 4, 15, 449, 26, 30, 8, 20, 36, 5173, 5, 449, 3, 5047, 2, 2678, 34, 6987, 2349, 1, 9564, 2, 2534, 1, 15916, 41, 1, 144, 204, 4, 193, 21, 549, 2, 1776, 5, 9565, 4, 11800, 1, 144, 204, 2, 157, 420, 5, 8273, 4, 3075, 12, 8, 20, 3, 199, 1, 6987, 2, 282, 5, 491, 12, 9, 542, 1, 1854, 68, 2, 424, 6, 1652, 30, 9, 6788, 6, 489, 4, 45, 8, 206, 1, 54, 5047, 53, 312, 4, 7, 4476, 27, 3, 25, 414, 34, 11799, 84, 10, 85, 1, 111, 222, 15, 1220, 12, 8, 20, 3, 1, 4309, 18705, 19944, 1497, 1, 4224, 51, 103, 8783, 41, 1, 1110, 4040, 21, 3362, 75, 2, 111, 15, 5589, 4, 5512, 9, 2762, 5, 6067, 1, 312, 84, 10, 85, 3362, 4069, 96, 4, 15, 1452, 2, 2763, 4, 45, 8, 20, 3, 25, 99, 1, 121, 2, 2377, 5, 848, 12, 8, 1, 443, 2, 7707, 737, 10, 670, 11111, 1636, 5, 3457, 3, 2078, 4524, 1149, 93, 1, 681, 7, 1112, 89, 1, 1355, 7, 477, 89, 6, 2360, 26, 66, 3, 152, 52, 759, 37, 29, 130, 52, 806, 37, 73, 3457, 26, 66, 6, 1, 14599, 2266, 636, 11, 59, 65, 1, 5048, 4, 2991, 12, 8, 3388, 42, 3, 25, 76, 43, 1610, 1578, 25, 3536, 44, 7, 1, 130, 52, 648, 37, 19, 726, 18, 93, 3743, 4477, 4918, 442, 443, 1305, 3, 16, 76, 43, 1610, 1578, 3536, 44, 149, 848, 54, 2657, 5283, 53, 363, 181, 16, 76, 43, 1610, 1578, 3536, 44, 305, 181, 16, 76, 43, 1610, 1578, 3536, 44, 305, 312, 375, 57, 95, 82, 58, 16, 448, 10, 113, 4966, 32, 43, 1610, 1578, 44, 366, 204, 2, 1292, 273, 6, 5731, 16, 3891, 16, 7438, 6, 2450, 17, 1258, 1130, 32, 25, 54, 1772, 765, 53, 6693, 2, 190, 3032, 149, 16, 312, 2378, 32, 25, 43, 1610, 1578, 3536, 44, 2, 1978, 2287, 1016, 6068, 1636, 6, 5731, 16, 2724, 5, 11425, 2055, 32, 25, 5047, 2, 494, 2, 1839, 16, 10821, 2, 366, 3032, 149, 16, 2062, 1448, 948, 2, 385, 202, 5, 586, 12, 9, 43, 1610, 1578, 25, 3536, 44, 2, 1292, 273, 5, 149, 16, 5047, 6, 3511, 2572, 33, 1, 1610, 1578, 269, 1025, 4803, 2, 1469, 1746, 16, 706, 895, 2, 2115, 94]\n"
          ],
          "name": "stdout"
        }
      ]
    },
    {
      "cell_type": "markdown",
      "metadata": {
        "id": "XWY83Y6CMa39"
      },
      "source": [
        "## Kerasのpad_sequencesで長さを統一"
      ]
    },
    {
      "cell_type": "code",
      "metadata": {
        "id": "PHySkGZrMa3_"
      },
      "source": [
        "MAX_LENGTH = 5000\n",
        "\n",
        "x_seq = tf.keras.preprocessing.sequence.pad_sequences(df['sequence'], maxlen=MAX_LENGTH)"
      ],
      "execution_count": 15,
      "outputs": []
    },
    {
      "cell_type": "markdown",
      "metadata": {
        "id": "AN85y3tBMa4B"
      },
      "source": [
        "## カテゴリーを整数にエンコーディング"
      ]
    },
    {
      "cell_type": "code",
      "metadata": {
        "id": "PElLjXKwMa4D"
      },
      "source": [
        "from sklearn.preprocessing import LabelEncoder\n",
        "\n",
        "le = LabelEncoder()\n",
        "\n",
        "df['encoded_label'] = le.fit_transform(df['category'])"
      ],
      "execution_count": 16,
      "outputs": []
    },
    {
      "cell_type": "markdown",
      "metadata": {
        "id": "sFIK3Mc1Ma4F"
      },
      "source": [
        "## （１）テキストをマルチホットエンコーディング"
      ]
    },
    {
      "cell_type": "markdown",
      "metadata": {
        "id": "LYw5q9VSMa4H"
      },
      "source": [
        "（サンプル数×最大単語数）のオールゼロ行列を準備する。"
      ]
    },
    {
      "cell_type": "code",
      "metadata": {
        "id": "Tq97qJMoMa4H",
        "colab": {
          "base_uri": "https://localhost:8080/"
        },
        "outputId": "abfffae1-5ae3-41bb-a65d-bc0d045f0677"
      },
      "source": [
        "import numpy as np\n",
        "\n",
        "words_multi_hot = np.zeros((x_seq.shape[0], MAX_WORDS))\n",
        "words_multi_hot.shape"
      ],
      "execution_count": 17,
      "outputs": [
        {
          "output_type": "execute_result",
          "data": {
            "text/plain": [
              "(7367, 20000)"
            ]
          },
          "metadata": {
            "tags": []
          },
          "execution_count": 17
        }
      ]
    },
    {
      "cell_type": "markdown",
      "metadata": {
        "id": "PNBYK4IYMa4N"
      },
      "source": [
        "テキスト中にある単語のコードをインデックスにして１を立てる"
      ]
    },
    {
      "cell_type": "code",
      "metadata": {
        "id": "zlVJ3KDCMa4P"
      },
      "source": [
        "for i in range(x_seq.shape[0]):\n",
        "    words_multi_hot[i,x_seq[i]] = 1"
      ],
      "execution_count": 18,
      "outputs": []
    },
    {
      "cell_type": "code",
      "metadata": {
        "id": "FId64MSiMa4W",
        "colab": {
          "base_uri": "https://localhost:8080/"
        },
        "outputId": "5d0e64b2-e641-41f1-ddcc-3b940ee2deea"
      },
      "source": [
        "words_multi_hot[0]"
      ],
      "execution_count": 19,
      "outputs": [
        {
          "output_type": "execute_result",
          "data": {
            "text/plain": [
              "array([1., 1., 1., ..., 0., 0., 0.])"
            ]
          },
          "metadata": {
            "tags": []
          },
          "execution_count": 19
        }
      ]
    },
    {
      "cell_type": "code",
      "metadata": {
        "id": "VeDSEb1HMa4g"
      },
      "source": [
        "num_categories = len(np.unique(df['category']))\n",
        "\n",
        "model = tf.keras.models.Sequential()\n",
        "\n",
        "inputs = tf.keras.Input(shape=(20000,))\n",
        "\n",
        "model.add(tf.keras.layers.Dense(256, activation='relu', input_shape=(20000,)))\n",
        "model.add(tf.keras.layers.Dense(num_categories, activation='softmax'))"
      ],
      "execution_count": 20,
      "outputs": []
    },
    {
      "cell_type": "code",
      "metadata": {
        "id": "qRCbZEx5Ma4m"
      },
      "source": [
        "from sklearn.model_selection import train_test_split\n",
        "\n",
        "x_train, x_test, y_train, y_test = train_test_split(words_multi_hot, df['encoded_label'], test_size=0.3)"
      ],
      "execution_count": 21,
      "outputs": []
    },
    {
      "cell_type": "code",
      "metadata": {
        "id": "AKYQwY6y1HFi",
        "colab": {
          "base_uri": "https://localhost:8080/"
        },
        "outputId": "943b9c25-4a75-4137-ebb8-ae6576f9b26c"
      },
      "source": [
        "model.compile(loss='sparse_categorical_crossentropy',\n",
        "          optimizer='adam',\n",
        "          metrics=['acc'])\n",
        "\n",
        "history = model.fit(x_train, y_train,\n",
        "                    batch_size=32,\n",
        "                    epochs=10,\n",
        "                    validation_data=(x_test, y_test),\n",
        "                    verbose=1)"
      ],
      "execution_count": 22,
      "outputs": [
        {
          "output_type": "stream",
          "text": [
            "Epoch 1/10\n",
            "162/162 [==============================] - 3s 8ms/step - loss: 0.6735 - acc: 0.7820 - val_loss: 0.1501 - val_acc: 0.9543\n",
            "Epoch 2/10\n",
            "162/162 [==============================] - 1s 5ms/step - loss: 0.0157 - acc: 0.9972 - val_loss: 0.1266 - val_acc: 0.9629\n",
            "Epoch 3/10\n",
            "162/162 [==============================] - 1s 5ms/step - loss: 0.0036 - acc: 1.0000 - val_loss: 0.1628 - val_acc: 0.9534\n",
            "Epoch 4/10\n",
            "162/162 [==============================] - 1s 5ms/step - loss: 0.0078 - acc: 0.9998 - val_loss: 0.1251 - val_acc: 0.9665\n",
            "Epoch 5/10\n",
            "162/162 [==============================] - 1s 5ms/step - loss: 0.0021 - acc: 0.9999 - val_loss: 0.1396 - val_acc: 0.9634\n",
            "Epoch 6/10\n",
            "162/162 [==============================] - 1s 6ms/step - loss: 0.0013 - acc: 1.0000 - val_loss: 0.1363 - val_acc: 0.9625\n",
            "Epoch 7/10\n",
            "162/162 [==============================] - 1s 5ms/step - loss: 0.0014 - acc: 0.9999 - val_loss: 0.1353 - val_acc: 0.9638\n",
            "Epoch 8/10\n",
            "162/162 [==============================] - 1s 5ms/step - loss: 0.0083 - acc: 0.9993 - val_loss: 0.1331 - val_acc: 0.9638\n",
            "Epoch 9/10\n",
            "162/162 [==============================] - 1s 5ms/step - loss: 7.6886e-04 - acc: 0.9999 - val_loss: 0.1355 - val_acc: 0.9638\n",
            "Epoch 10/10\n",
            "162/162 [==============================] - 1s 5ms/step - loss: 6.8018e-04 - acc: 1.0000 - val_loss: 0.1382 - val_acc: 0.9647\n"
          ],
          "name": "stdout"
        }
      ]
    },
    {
      "cell_type": "code",
      "metadata": {
        "scrolled": false,
        "id": "ckt7FJ8ya8jq",
        "colab": {
          "base_uri": "https://localhost:8080/",
          "height": 533
        },
        "outputId": "e60f9eec-3231-4c05-85b5-eaeb58d23090"
      },
      "source": [
        "import matplotlib.pyplot as plt\n",
        "%matplotlib inline\n",
        "\n",
        "acc = history.history['acc']\n",
        "val_acc = history.history['val_acc']\n",
        "loss = history.history['loss']\n",
        "val_loss = history.history['val_loss']\n",
        "\n",
        "epochs = range(len(acc))\n",
        "\n",
        "plt.plot(epochs, acc, label='Train Accuracy')\n",
        "plt.plot(epochs, val_acc, label='Validation Accuracy')\n",
        "plt.legend()\n",
        "plt.show()\n",
        "\n",
        "plt.plot(epochs, loss, label='Train Loss')\n",
        "plt.plot(epochs, val_loss, label='Validation Loss')\n",
        "plt.legend()\n",
        "plt.show()"
      ],
      "execution_count": 23,
      "outputs": [
        {
          "output_type": "display_data",
          "data": {
            "image/png": "[encoded data removed]",
            "text/plain": [
              "<Figure size 432x288 with 1 Axes>"
            ]
          },
          "metadata": {
            "tags": [],
            "needs_background": "light"
          }
        },
        {
          "output_type": "display_data",
          "data": {
            "image/png": "[encoded data removed]",
            "text/plain": [
              "<Figure size 432x288 with 1 Axes>"
            ]
          },
          "metadata": {
            "tags": [],
            "needs_background": "light"
          }
        }
      ]
    },
    {
      "cell_type": "markdown",
      "metadata": {
        "id": "WDu9Y_LrMa4s"
      },
      "source": [
        "## （２）単語埋め込み"
      ]
    },
    {
      "cell_type": "code",
      "metadata": {
        "id": "VyJvdX_8Ma4t"
      },
      "source": [
        "emb_dim = 128\n",
        "\n",
        "model = tf.keras.models.Sequential()\n",
        "\n",
        "model.add(tf.keras.layers.Embedding(MAX_WORDS, emb_dim, input_length=MAX_LENGTH))\n",
        "model.add(tf.keras.layers.GlobalAveragePooling1D())\n",
        "model.add(tf.keras.layers.Dense(num_categories, activation='softmax'))"
      ],
      "execution_count": null,
      "outputs": []
    },
    {
      "cell_type": "code",
      "metadata": {
        "id": "zi_yNGmHMa4w"
      },
      "source": [
        "x_train, x_test, y_train, y_test = train_test_split(x_seq, df['encoded_label'], test_size=0.3)"
      ],
      "execution_count": null,
      "outputs": []
    },
    {
      "cell_type": "code",
      "metadata": {
        "id": "0mp9yM1M_QDF"
      },
      "source": [
        "model.compile(loss='sparse_categorical_crossentropy',\n",
        "          optimizer='adam',\n",
        "          metrics=['acc'])\n",
        "\n",
        "history = model.fit(x_train, y_train,\n",
        "                    batch_size=32,\n",
        "                    epochs=50,\n",
        "                    validation_data=(x_test, y_test),\n",
        "                    verbose=1)"
      ],
      "execution_count": null,
      "outputs": []
    },
    {
      "cell_type": "code",
      "metadata": {
        "id": "gzYoTdeIMa44"
      },
      "source": [
        "import matplotlib.pyplot as plt\n",
        "%matplotlib inline\n",
        "\n",
        "acc = history.history['acc']\n",
        "val_acc = history.history['val_acc']\n",
        "loss = history.history['loss']\n",
        "val_loss = history.history['val_loss']\n",
        "\n",
        "epochs = range(len(acc))\n",
        "\n",
        "plt.plot(epochs, acc, label='Train Accuracy')\n",
        "plt.plot(epochs, val_acc, label='Validation Accuracy')\n",
        "plt.legend()\n",
        "plt.show()\n",
        "\n",
        "plt.plot(epochs, loss, label='Train Loss')\n",
        "plt.plot(epochs, val_loss, label='Validation Loss')\n",
        "plt.legend()\n",
        "plt.show()"
      ],
      "execution_count": null,
      "outputs": []
    },
    {
      "cell_type": "markdown",
      "metadata": {
        "id": "rI9vfcWVT64j"
      },
      "source": [
        "## RNN（LSTM）を使ってみる"
      ]
    },
    {
      "cell_type": "code",
      "metadata": {
        "id": "oB6-qyPzT-HI"
      },
      "source": [
        "EMB_DIMS = 128\n",
        "\n",
        "model = tf.keras.models.Sequential()\n",
        "\n",
        "model.add(tf.keras.layers.Embedding(MAX_WORDS, EMB_DIMS, input_length=MAX_LENGTH))\n",
        "model.add(tf.keras.layers.Dropout(rate=0.4, noise_shape=(None, 1, EMB_DIMS)))\n",
        "model.add(tf.keras.layers.LSTM(128))\n",
        "model.add(tf.keras.layers.Dense(num_categories, activation='softmax'))\n",
        "\n",
        "model.compile(loss='sparse_categorical_crossentropy',\n",
        "              optimizer='adam',\n",
        "              metrics=['acc'])\n",
        "\n",
        "model.summary()"
      ],
      "execution_count": null,
      "outputs": []
    },
    {
      "cell_type": "code",
      "metadata": {
        "id": "mB76TkDRURBs"
      },
      "source": [
        "x_train, x_test, y_train, y_test = train_test_split(x_seq, df['encoded_label'], test_size=0.3)\n",
        "\n",
        "history = model.fit(x_train, y_train,\n",
        "                    batch_size=30,\n",
        "                    epochs=20,\n",
        "                    validation_data=(x_test, y_test))"
      ],
      "execution_count": null,
      "outputs": []
    },
    {
      "cell_type": "code",
      "metadata": {
        "id": "JJpXWYJs91AD"
      },
      "source": [
        "import matplotlib.pyplot as plt\n",
        "%matplotlib inline\n",
        "\n",
        "acc = history.history['acc']\n",
        "val_acc = history.history['val_acc']\n",
        "loss = history.history['loss']\n",
        "val_loss = history.history['val_loss']\n",
        "\n",
        "epochs = range(len(acc))\n",
        "\n",
        "plt.plot(epochs, acc, label='Train Accuracy')\n",
        "plt.plot(epochs, val_acc, label='Validation Accuracy')\n",
        "plt.legend()\n",
        "plt.show()\n",
        "\n",
        "plt.plot(epochs, loss, label='Train Loss')\n",
        "plt.plot(epochs, val_loss, label='Validation Loss')\n",
        "plt.legend()\n",
        "plt.show()"
      ],
      "execution_count": null,
      "outputs": []
    },
    {
      "cell_type": "code",
      "metadata": {
        "id": "S6oQV7MRPO3N"
      },
      "source": [
        ""
      ],
      "execution_count": null,
      "outputs": []
    }
  ]
}