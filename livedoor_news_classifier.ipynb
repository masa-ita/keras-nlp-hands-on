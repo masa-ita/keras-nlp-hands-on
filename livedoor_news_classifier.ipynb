{
  "nbformat": 4,
  "nbformat_minor": 0,
  "metadata": {
    "colab": {
      "name": "livedoor_news_classifier.ipynb",
      "version": "0.3.2",
      "provenance": [],
      "collapsed_sections": []
    },
    "kernelspec": {
      "name": "python3",
      "display_name": "Python 3"
    },
    "accelerator": "GPU"
  },
  "cells": [
    {
      "metadata": {
        "id": "4DSAkbBir4Q0",
        "colab_type": "text"
      },
      "cell_type": "markdown",
      "source": [
        "# livedoorニュースの分類\n",
        "## MeCabのインストール"
      ]
    },
    {
      "metadata": {
        "id": "95ZCsC-kMfIp",
        "colab_type": "code",
        "colab": {}
      },
      "cell_type": "code",
      "source": [
        "!apt install mecab libmecab-dev mecab-ipadic-utf8 git make curl xz-utils file -y\n",
        "!pip install mecab-python3==0.7"
      ],
      "execution_count": 0,
      "outputs": []
    },
    {
      "metadata": {
        "id": "puPer6GPsDfC",
        "colab_type": "text"
      },
      "cell_type": "markdown",
      "source": [
        "## データファイルのダウンロードと解凍"
      ]
    },
    {
      "metadata": {
        "id": "nBz6-6rOPhZF",
        "colab_type": "code",
        "colab": {}
      },
      "cell_type": "code",
      "source": [
        "import tarfile \n",
        "from urllib.request import urlretrieve\n",
        "\n",
        "FILE_URL = 'https://www.rondhuit.com/download/ldcc-20140209.tar.gz'\n",
        "FILE_PATH = '/content/ldcc-20140209.tar.gz'\n",
        "EXTRACT_DIR = '/content'\n",
        "\n",
        "urlretrieve(FILE_URL, FILE_PATH)\n",
        "\n",
        "mode = \"r:gz\"\n",
        "tar = tarfile.open(FILE_PATH, mode) \n",
        "tar.extractall(EXTRACT_DIR) \n",
        "tar.close()"
      ],
      "execution_count": 0,
      "outputs": []
    },
    {
      "metadata": {
        "id": "JBkXQA7TPqFU",
        "colab_type": "code",
        "colab": {}
      },
      "cell_type": "code",
      "source": [
        "!ls -l /content/text"
      ],
      "execution_count": 0,
      "outputs": []
    },
    {
      "metadata": {
        "id": "1TJKB43nMa3U",
        "colab_type": "text"
      },
      "cell_type": "markdown",
      "source": [
        "## 記事ファイルの読み込み"
      ]
    },
    {
      "metadata": {
        "id": "J3nFNgwPMa3W",
        "colab_type": "code",
        "colab": {}
      },
      "cell_type": "code",
      "source": [
        "import os\n",
        "import pandas as pd\n",
        "\n",
        "base_dir = '/content/text'\n",
        "\n",
        "category = pd.Series(name='category')\n",
        "url = pd.Series(name='url')\n",
        "time_published = pd.Series(name='time_published')\n",
        "title = pd.Series(name='title')\n",
        "text = pd.Series(name='text')\n",
        "\n",
        "index = 0\n",
        "\n",
        "for name in os.listdir(base_dir):\n",
        "    if os.path.isdir(os.path.join(base_dir, name)):\n",
        "        for file in os.listdir(os.path.join(base_dir, name)):\n",
        "            if file != 'LICENSE.txt':\n",
        "                with open(os.path.join(base_dir, name, file), 'r') as f:\n",
        "                    lines = f.readlines()\n",
        "                category.at[index] = name\n",
        "                url.at[index] = lines[0].rstrip()\n",
        "                time_published.at[index] = lines[1].rstrip()\n",
        "                title.at[index] = lines[2].rstrip()\n",
        "                text.at[index] = ''.join(lines[3:])\n",
        "                index += 1"
      ],
      "execution_count": 0,
      "outputs": []
    },
    {
      "metadata": {
        "id": "rSwpzF_JMa3b",
        "colab_type": "code",
        "colab": {}
      },
      "cell_type": "code",
      "source": [
        "df = pd.concat([category, url, time_published, title, text], axis=1)"
      ],
      "execution_count": 0,
      "outputs": []
    },
    {
      "metadata": {
        "id": "QYebo3NOMa3e",
        "colab_type": "code",
        "colab": {}
      },
      "cell_type": "code",
      "source": [
        "df.head()"
      ],
      "execution_count": 0,
      "outputs": []
    },
    {
      "metadata": {
        "id": "FOMYsfkjMa3k",
        "colab_type": "text"
      },
      "cell_type": "markdown",
      "source": [
        "## MeCabによるテキストのトークン化"
      ]
    },
    {
      "metadata": {
        "id": "l3fPCu2LMa3m",
        "colab_type": "code",
        "colab": {}
      },
      "cell_type": "code",
      "source": [
        "import MeCab\n",
        "\n",
        "tagger = MeCab.Tagger('-Owakati')\n",
        "\n",
        "def tokenize_japanese(text):\n",
        "    return tagger.parse(text)"
      ],
      "execution_count": 0,
      "outputs": []
    },
    {
      "metadata": {
        "id": "7vaOeJYdMa3o",
        "colab_type": "code",
        "colab": {}
      },
      "cell_type": "code",
      "source": [
        "df['text'] = df['text'].map(tokenize_japanese)"
      ],
      "execution_count": 0,
      "outputs": []
    },
    {
      "metadata": {
        "id": "HLrkbwgIMa3r",
        "colab_type": "code",
        "colab": {}
      },
      "cell_type": "code",
      "source": [
        "df.head()"
      ],
      "execution_count": 0,
      "outputs": []
    },
    {
      "metadata": {
        "id": "AhgksFq0Ma3v",
        "colab_type": "text"
      },
      "cell_type": "markdown",
      "source": [
        "## KerasのTokenizerにより単語を整数にエンコード"
      ]
    },
    {
      "metadata": {
        "id": "uI4hcXxFMa3w",
        "colab_type": "code",
        "colab": {}
      },
      "cell_type": "code",
      "source": [
        "import keras\n",
        "\n",
        "MAX_WORDS = 20000 # 最も頻度の高い20,000語のみエンコード\n",
        "\n",
        "tokenizer = keras.preprocessing.text.Tokenizer(num_words=MAX_WORDS)\n",
        "\n",
        "tokenizer.fit_on_texts(df['text'])"
      ],
      "execution_count": 0,
      "outputs": []
    },
    {
      "metadata": {
        "id": "eOuJkuPxMa3z",
        "colab_type": "code",
        "colab": {}
      },
      "cell_type": "code",
      "source": [
        "df['sequence'] = tokenizer.texts_to_sequences(df['text'])"
      ],
      "execution_count": 0,
      "outputs": []
    },
    {
      "metadata": {
        "id": "tXLsS3woMa32",
        "colab_type": "code",
        "colab": {}
      },
      "cell_type": "code",
      "source": [
        "word2int = tokenizer.word_index"
      ],
      "execution_count": 0,
      "outputs": []
    },
    {
      "metadata": {
        "id": "DiMVueGdMa35",
        "colab_type": "code",
        "colab": {}
      },
      "cell_type": "code",
      "source": [
        "print(df['sequence'][0])"
      ],
      "execution_count": 0,
      "outputs": []
    },
    {
      "metadata": {
        "id": "XWY83Y6CMa39",
        "colab_type": "text"
      },
      "cell_type": "markdown",
      "source": [
        "## Kerasのpad_sequencesで長さを統一"
      ]
    },
    {
      "metadata": {
        "id": "PHySkGZrMa3_",
        "colab_type": "code",
        "colab": {}
      },
      "cell_type": "code",
      "source": [
        "MAX_LENGTH = 5000\n",
        "\n",
        "x_seq = keras.preprocessing.sequence.pad_sequences(df['sequence'], maxlen=MAX_LENGTH)"
      ],
      "execution_count": 0,
      "outputs": []
    },
    {
      "metadata": {
        "id": "AN85y3tBMa4B",
        "colab_type": "text"
      },
      "cell_type": "markdown",
      "source": [
        "## カテゴリーを整数にエンコーディング"
      ]
    },
    {
      "metadata": {
        "id": "PElLjXKwMa4D",
        "colab_type": "code",
        "colab": {}
      },
      "cell_type": "code",
      "source": [
        "from sklearn.preprocessing import LabelEncoder\n",
        "\n",
        "le = LabelEncoder()\n",
        "\n",
        "df['encoded_label'] = le.fit_transform(df['category'])"
      ],
      "execution_count": 0,
      "outputs": []
    },
    {
      "metadata": {
        "id": "sFIK3Mc1Ma4F",
        "colab_type": "text"
      },
      "cell_type": "markdown",
      "source": [
        "## （１）テキストをマルチホットエンコーディング"
      ]
    },
    {
      "metadata": {
        "id": "LYw5q9VSMa4H",
        "colab_type": "text"
      },
      "cell_type": "markdown",
      "source": [
        "（サンプル数×最大単語数）のオールゼロ行列を準備する。"
      ]
    },
    {
      "metadata": {
        "id": "Tq97qJMoMa4H",
        "colab_type": "code",
        "colab": {}
      },
      "cell_type": "code",
      "source": [
        "import numpy as np\n",
        "\n",
        "words_multi_hot = np.zeros((x_seq.shape[0], MAX_WORDS))\n",
        "words_multi_hot.shape"
      ],
      "execution_count": 0,
      "outputs": []
    },
    {
      "metadata": {
        "id": "PNBYK4IYMa4N",
        "colab_type": "text"
      },
      "cell_type": "markdown",
      "source": [
        "テキスト中にある単語のコードをインデックスにして１を立てる"
      ]
    },
    {
      "metadata": {
        "id": "zlVJ3KDCMa4P",
        "colab_type": "code",
        "colab": {}
      },
      "cell_type": "code",
      "source": [
        "for i in range(x_seq.shape[0]):\n",
        "    words_multi_hot[i,x_seq[i]] = 1"
      ],
      "execution_count": 0,
      "outputs": []
    },
    {
      "metadata": {
        "id": "FId64MSiMa4W",
        "colab_type": "code",
        "colab": {}
      },
      "cell_type": "code",
      "source": [
        "words_multi_hot[0]"
      ],
      "execution_count": 0,
      "outputs": []
    },
    {
      "metadata": {
        "id": "VeDSEb1HMa4g",
        "colab_type": "code",
        "colab": {}
      },
      "cell_type": "code",
      "source": [
        "import keras\n",
        "\n",
        "num_categories = len(np.unique(df['category']))\n",
        "\n",
        "model = keras.models.Sequential()\n",
        "\n",
        "inputs = keras.Input(shape=(20000,))\n",
        "\n",
        "model.add(keras.layers.Dense(256, activation='relu', input_shape=(20000,)))\n",
        "model.add(keras.layers.Dense(num_categories, activation='softmax'))"
      ],
      "execution_count": 0,
      "outputs": []
    },
    {
      "metadata": {
        "id": "qRCbZEx5Ma4m",
        "colab_type": "code",
        "colab": {}
      },
      "cell_type": "code",
      "source": [
        "from sklearn.model_selection import train_test_split\n",
        "\n",
        "x_train, x_test, y_train, y_test = train_test_split(words_multi_hot, df['encoded_label'], test_size=0.3)"
      ],
      "execution_count": 0,
      "outputs": []
    },
    {
      "metadata": {
        "id": "AKYQwY6y1HFi",
        "colab_type": "code",
        "colab": {}
      },
      "cell_type": "code",
      "source": [
        "model.compile(loss='sparse_categorical_crossentropy',\n",
        "          optimizer='adam',\n",
        "          metrics=['acc'])\n",
        "\n",
        "history = model.fit(x_train, y_train,\n",
        "                    batch_size=32,\n",
        "                    epochs=10,\n",
        "                    validation_data=(x_test, y_test),\n",
        "                    verbose=1)"
      ],
      "execution_count": 0,
      "outputs": []
    },
    {
      "metadata": {
        "scrolled": false,
        "id": "ckt7FJ8ya8jq",
        "colab_type": "code",
        "colab": {}
      },
      "cell_type": "code",
      "source": [
        "import matplotlib.pyplot as plt\n",
        "%matplotlib inline\n",
        "\n",
        "acc = history.history['acc']\n",
        "val_acc = history.history['val_acc']\n",
        "loss = history.history['loss']\n",
        "val_loss = history.history['val_loss']\n",
        "\n",
        "epochs = range(len(acc))\n",
        "\n",
        "plt.plot(epochs, acc, label='Train Accuracy')\n",
        "plt.plot(epochs, val_acc, label='Validation Accuracy')\n",
        "plt.legend()\n",
        "plt.show()\n",
        "\n",
        "plt.plot(epochs, loss, label='Train Loss')\n",
        "plt.plot(epochs, val_loss, label='Validation Loss')\n",
        "plt.legend()\n",
        "plt.show()"
      ],
      "execution_count": 0,
      "outputs": []
    },
    {
      "metadata": {
        "id": "WDu9Y_LrMa4s",
        "colab_type": "text"
      },
      "cell_type": "markdown",
      "source": [
        "## （２）単語埋め込み"
      ]
    },
    {
      "metadata": {
        "id": "VyJvdX_8Ma4t",
        "colab_type": "code",
        "colab": {}
      },
      "cell_type": "code",
      "source": [
        "emb_dim = 128\n",
        "\n",
        "model = keras.models.Sequential()\n",
        "\n",
        "model.add(keras.layers.Embedding(MAX_WORDS, emb_dim, input_length=MAX_LENGTH))\n",
        "model.add(keras.layers.GlobalAveragePooling1D())\n",
        "model.add(keras.layers.Dense(num_categories, activation='softmax'))"
      ],
      "execution_count": 0,
      "outputs": []
    },
    {
      "metadata": {
        "id": "zi_yNGmHMa4w",
        "colab_type": "code",
        "colab": {}
      },
      "cell_type": "code",
      "source": [
        "x_train, x_test, y_train, y_test = train_test_split(x_seq, df['encoded_label'], test_size=0.3)"
      ],
      "execution_count": 0,
      "outputs": []
    },
    {
      "metadata": {
        "id": "0mp9yM1M_QDF",
        "colab_type": "code",
        "colab": {}
      },
      "cell_type": "code",
      "source": [
        "model.compile(loss='sparse_categorical_crossentropy',\n",
        "          optimizer='adam',\n",
        "          metrics=['acc'])\n",
        "\n",
        "history = model.fit(x_train, y_train,\n",
        "                    batch_size=32,\n",
        "                    epochs=50,\n",
        "                    validation_data=(x_test, y_test),\n",
        "                    verbose=1)"
      ],
      "execution_count": 0,
      "outputs": []
    },
    {
      "metadata": {
        "id": "gzYoTdeIMa44",
        "colab_type": "code",
        "colab": {}
      },
      "cell_type": "code",
      "source": [
        "import matplotlib.pyplot as plt\n",
        "%matplotlib inline\n",
        "\n",
        "acc = history.history['acc']\n",
        "val_acc = history.history['val_acc']\n",
        "loss = history.history['loss']\n",
        "val_loss = history.history['val_loss']\n",
        "\n",
        "epochs = range(len(acc))\n",
        "\n",
        "plt.plot(epochs, acc, label='Train Accuracy')\n",
        "plt.plot(epochs, val_acc, label='Validation Accuracy')\n",
        "plt.legend()\n",
        "plt.show()\n",
        "\n",
        "plt.plot(epochs, loss, label='Train Loss')\n",
        "plt.plot(epochs, val_loss, label='Validation Loss')\n",
        "plt.legend()\n",
        "plt.show()"
      ],
      "execution_count": 0,
      "outputs": []
    },
    {
      "metadata": {
        "id": "rI9vfcWVT64j",
        "colab_type": "text"
      },
      "cell_type": "markdown",
      "source": [
        "## RNN（LSTM）を使ってみる"
      ]
    },
    {
      "metadata": {
        "id": "oB6-qyPzT-HI",
        "colab_type": "code",
        "colab": {}
      },
      "cell_type": "code",
      "source": [
        "EMB_DIMS = 128\n",
        "\n",
        "model = keras.models.Sequential()\n",
        "\n",
        "model.add(keras.layers.Embedding(MAX_WORDS, EMB_DIMS, input_length=MAX_LENGTH))\n",
        "model.add(keras.layers.Dropout(rate=0.4, noise_shape=(None, 1, EMB_DIMS)))\n",
        "model.add(keras.layers.CuDNNLSTM(128))\n",
        "model.add(keras.layers.Dense(num_categories, activation='softmax'))\n",
        "\n",
        "model.compile(loss='sparse_categorical_crossentropy',\n",
        "              optimizer='adam',\n",
        "              metrics=['acc'])\n",
        "\n",
        "model.summary()"
      ],
      "execution_count": 0,
      "outputs": []
    },
    {
      "metadata": {
        "id": "mB76TkDRURBs",
        "colab_type": "code",
        "colab": {}
      },
      "cell_type": "code",
      "source": [
        "x_train, x_test, y_train, y_test = train_test_split(x_seq, df['encoded_label'], test_size=0.3)\n",
        "\n",
        "history = model.fit(x_train, y_train,\n",
        "                    batch_size=30,\n",
        "                    epochs=20,\n",
        "                    validation_data=(x_test, y_test))"
      ],
      "execution_count": 0,
      "outputs": []
    },
    {
      "metadata": {
        "id": "JJpXWYJs91AD",
        "colab_type": "code",
        "colab": {}
      },
      "cell_type": "code",
      "source": [
        "import matplotlib.pyplot as plt\n",
        "%matplotlib inline\n",
        "\n",
        "acc = history.history['acc']\n",
        "val_acc = history.history['val_acc']\n",
        "loss = history.history['loss']\n",
        "val_loss = history.history['val_loss']\n",
        "\n",
        "epochs = range(len(acc))\n",
        "\n",
        "plt.plot(epochs, acc, label='Train Accuracy')\n",
        "plt.plot(epochs, val_acc, label='Validation Accuracy')\n",
        "plt.legend()\n",
        "plt.show()\n",
        "\n",
        "plt.plot(epochs, loss, label='Train Loss')\n",
        "plt.plot(epochs, val_loss, label='Validation Loss')\n",
        "plt.legend()\n",
        "plt.show()"
      ],
      "execution_count": 0,
      "outputs": []
    }
  ]
}